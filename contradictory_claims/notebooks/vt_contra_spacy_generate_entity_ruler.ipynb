{
 "cells": [
  {
   "cell_type": "code",
   "execution_count": null,
   "metadata": {},
   "outputs": [],
   "source": [
    "\"\"\"\n",
    "Using a spaCy EntityRuler pipeline component to identify entities (virus terms, drug terms, etc.) in text passages.\n",
    "\n",
    "\"\"\""
   ]
  },
  {
   "cell_type": "code",
   "execution_count": 1,
   "metadata": {},
   "outputs": [],
   "source": [
    "import json\n",
    "import spacy\n",
    "import en_core_sci_lg\n",
    "from spacy.pipeline import EntityRuler\n",
    "import re"
   ]
  },
  {
   "cell_type": "code",
   "execution_count": 2,
   "metadata": {},
   "outputs": [],
   "source": [
    "def generate_entityruler_pattern_list(pattern_phrases, label):\n",
    "    \"\"\"\n",
    "    Generate a list of dicts defining patterns for an EntityRuler object.\n",
    "    \"\"\"\n",
    "    \n",
    "    patterns = []\n",
    "    pattern_phrases = set(pattern_phrases)\n",
    "    for pattern_phrase in pattern_phrases:\n",
    "        patterns.append({\n",
    "            \"label\" : label,\n",
    "            \"pattern\" : pattern_phrase\n",
    "        })\n",
    "    \n",
    "    return patterns\n",
    "\n",
    "def extract_patterns_from_text_file(file_path):\n",
    "    \"\"\"\n",
    "    Extract a set of patterns from a text file downloaded from the VT Task Drug Analysis notebook.\n",
    "    \"\"\"\n",
    "    \n",
    "    terms = set([])\n",
    "    with open(file_path) as f:\n",
    "        for line in f.readlines():\n",
    "            term = line.strip().lower()\n",
    "            if term:\n",
    "                terms.add(term)\n",
    "    \n",
    "    return terms"
   ]
  },
  {
   "cell_type": "code",
   "execution_count": 3,
   "metadata": {},
   "outputs": [],
   "source": [
    "\"\"\"\n",
    "Config files\n",
    "\n",
    "\n",
    "\"\"\"\n",
    "\n",
    "date = '200501'\n",
    "\n",
    "ent_ruler_config_path = 'resources/spacy_entity_rulers/input/vt_task_entity_ruler_writer_config_%s.json' % date\n",
    "\n",
    "config_dict = {\n",
    "    'outpath' : 'resources/spacy_entity_rulers/vt_task_entity_ruler_%s.jsonl' % date,\n",
    "    'label_term_paths': {\n",
    "            'VIRUS' : 'resources/spacy_entity_rulers/input/virus_words.txt',\n",
    "            'DRUG' : 'resources/spacy_entity_rulers/input/DrugNames.txt'\n",
    "        }\n",
    "}"
   ]
  },
  {
   "cell_type": "code",
   "execution_count": 4,
   "metadata": {},
   "outputs": [],
   "source": [
    "with open(ent_ruler_config_path, 'w') as f:\n",
    "    json.dump(config_dict, f)\n",
    "\n",
    "with open(ent_ruler_config_path) as f:\n",
    "    input_dict = json.load(f)\n",
    "    \n",
    "all_patterns = []\n",
    "\n",
    "for label, term_file_path in input_dict['label_term_paths'].items():\n",
    "    label_terms = extract_patterns_from_text_file(term_file_path)\n",
    "    all_patterns += generate_entityruler_pattern_list(label_terms, label)"
   ]
  },
  {
   "cell_type": "code",
   "execution_count": 5,
   "metadata": {},
   "outputs": [
    {
     "name": "stdout",
     "output_type": "stream",
     "text": [
      "Adding patterns to ruler...\n",
      "Saving patterns to resources/spacy_entity_rulers/vt_task_entity_ruler_200501.jsonl\n"
     ]
    }
   ],
   "source": [
    "\"\"\"\n",
    "Add pattern phrase list to EntityRuler, and write ruler to jsonl file.\n",
    "\"\"\"\n",
    "output_path = input_dict['outpath']\n",
    "\n",
    "nlp = en_core_sci_lg.load()\n",
    "ruler = EntityRuler(nlp)\n",
    "\n",
    "print(\"Adding patterns to ruler...\")    \n",
    "ruler.add_patterns(all_patterns)\n",
    "print(\"Saving patterns to %s\" % output_path)\n",
    "ruler.to_disk(output_path)"
   ]
  },
  {
   "cell_type": "code",
   "execution_count": null,
   "metadata": {},
   "outputs": [],
   "source": []
  }
 ],
 "metadata": {
  "kernelspec": {
   "display_name": "vt_contra",
   "language": "python",
   "name": "vt_contra"
  },
  "language_info": {
   "codemirror_mode": {
    "name": "ipython",
    "version": 3
   },
   "file_extension": ".py",
   "mimetype": "text/x-python",
   "name": "python",
   "nbconvert_exporter": "python",
   "pygments_lexer": "ipython3",
   "version": "3.8.2"
  }
 },
 "nbformat": 4,
 "nbformat_minor": 2
}
