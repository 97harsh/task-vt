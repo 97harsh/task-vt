{
  "nbformat": 4,
  "nbformat_minor": 0,
  "metadata": {
    "colab": {
      "name": "make-train.ipynb",
      "provenance": [],
      "collapsed_sections": [],
      "authorship_tag": "ABX9TyOO5o/AWhsz3ehvvN/HNbMv",
      "include_colab_link": true
    },
    "kernelspec": {
      "name": "python3",
      "display_name": "Python 3"
    }
  },
  "cells": [
    {
      "cell_type": "markdown",
      "metadata": {
        "id": "view-in-github",
        "colab_type": "text"
      },
      "source": [
        "<a href=\"https://colab.research.google.com/github/isaacmg/task-vt/blob/re_model_revised/drug_treatment_extraction/notebooks/%20training_data_explore.ipynb\" target=\"_parent\"><img src=\"https://colab.research.google.com/assets/colab-badge.svg\" alt=\"Open In Colab\"/></a>"
      ]
    },
    {
      "cell_type": "markdown",
      "metadata": {
        "id": "npZnVVmqfxIl",
        "colab_type": "text"
      },
      "source": [
        "## Creating Training Data for Relation Extraction\n",
        "This is a brief notebook to show how data training/test data was created for the relation extraction task. The goal of this pre-processing is to put data in a format roughly analogous to the GAD training data found for BioBERT. In the GAD data we have TSV sperated file with a sentence, a gene_mask a diesase_mask, and a binary label (0,1). \n",
        "```\n",
        "Our findings indicate that the @GENE$ -141C Ins allele and the 5-HTTLPR S allele are genetic risk factors for alcoholism in Mexican-Americans, and that smoking modulates the association between genetic risk factors and @DISEASE$.\t1\n",
        "\n",
        "Our matched case-control and family study indicate that Cx50, but not @GENE$, may play a role in the genetic susceptibility to @DISEASE$.\t0\n",
        "```"
      ]
    },
    {
      "cell_type": "code",
      "metadata": {
        "id": "ev_kji07dDko",
        "colab_type": "code",
        "outputId": "470e23f9-b594-48d8-cb4b-a2cb0eff3dfc",
        "colab": {
          "base_uri": "https://localhost:8080/",
          "height": 186
        }
      },
      "source": [
        "!gsutil cp gs://coronaviruspublicdata/snapshot_re_4_12_2020/drugvisdata.xlsx\tdrugvis.xlsx\n",
        "!gsutil cp gs://coronaviruspublicdata/snapshot_re_4_12_2020/FakeSentences_For_Aradana.csv\tfakes.csv\n",
        "!gsutil cp gs://coronaviruspublicdata/snapshot_re_4_12_2020/export.csv export.csv\n"
      ],
      "execution_count": 0,
      "outputs": [
        {
          "output_type": "stream",
          "text": [
            "Copying gs://coronaviruspublicdata/snapshot_re_4_12_2020/drugvisdata.xlsx...\n",
            "- [1 files][122.9 KiB/122.9 KiB]                                                \n",
            "Operation completed over 1 objects/122.9 KiB.                                    \n",
            "Copying gs://coronaviruspublicdata/snapshot_re_4_12_2020/FakeSentences_For_Aradana.csv...\n",
            "- [1 files][ 88.9 MiB/ 88.9 MiB]                                                \n",
            "Operation completed over 1 objects/88.9 MiB.                                     \n",
            "Copying gs://coronaviruspublicdata/snapshot_re_4_12_2020/export.csv...\n",
            "/ [1 files][  6.5 MiB/  6.5 MiB]                                                \n",
            "Operation completed over 1 objects/6.5 MiB.                                      \n"
          ],
          "name": "stdout"
        }
      ]
    },
    {
      "cell_type": "code",
      "metadata": {
        "id": "NZtkxhh9dhZb",
        "colab_type": "code",
        "colab": {}
      },
      "source": [
        "import pandas as pd\n",
        "positive_df = pd.read_csv(\"export.csv\").drop_duplicates(subset='sentence')\n",
        "negatives_df = pd.read_csv(\"fakes.csv\").drop_duplicates(subset='new_sentence')"
      ],
      "execution_count": 0,
      "outputs": []
    },
    {
      "cell_type": "code",
      "metadata": {
        "id": "vo4Wc_j4fHlV",
        "colab_type": "code",
        "outputId": "4703e775-8c89-4142-aca7-b89667efdb70",
        "colab": {
          "base_uri": "https://localhost:8080/",
          "height": 54
        }
      },
      "source": [
        "len(positive_df)"
      ],
      "execution_count": 0,
      "outputs": [
        {
          "output_type": "execute_result",
          "data": {
            "text/plain": [
              "21296"
            ]
          },
          "metadata": {
            "tags": []
          },
          "execution_count": 77
        }
      ]
    },
    {
      "cell_type": "code",
      "metadata": {
        "id": "K48VqjTFfPQy",
        "colab_type": "code",
        "outputId": "f82f8b51-edfb-4360-abca-0d33b56913b0",
        "colab": {
          "base_uri": "https://localhost:8080/",
          "height": 54
        }
      },
      "source": [
        "len(negatives_df)"
      ],
      "execution_count": 0,
      "outputs": [
        {
          "output_type": "execute_result",
          "data": {
            "text/plain": [
              "194674"
            ]
          },
          "metadata": {
            "tags": []
          },
          "execution_count": 78
        }
      ]
    },
    {
      "cell_type": "code",
      "metadata": {
        "id": "C15cWbaeffHW",
        "colab_type": "code",
        "outputId": "0874af10-197e-44cf-aecd-29573dccbe96",
        "colab": {
          "base_uri": "https://localhost:8080/",
          "height": 221
        }
      },
      "source": [
        "positive_df.head()"
      ],
      "execution_count": 0,
      "outputs": [
        {
          "output_type": "execute_result",
          "data": {
            "text/html": [
              "<div>\n",
              "<style scoped>\n",
              "    .dataframe tbody tr th:only-of-type {\n",
              "        vertical-align: middle;\n",
              "    }\n",
              "\n",
              "    .dataframe tbody tr th {\n",
              "        vertical-align: top;\n",
              "    }\n",
              "\n",
              "    .dataframe thead th {\n",
              "        text-align: right;\n",
              "    }\n",
              "</style>\n",
              "<table border=\"1\" class=\"dataframe\">\n",
              "  <thead>\n",
              "    <tr style=\"text-align: right;\">\n",
              "      <th></th>\n",
              "      <th>drug</th>\n",
              "      <th>disease</th>\n",
              "      <th>sentence</th>\n",
              "      <th>score</th>\n",
              "    </tr>\n",
              "  </thead>\n",
              "  <tbody>\n",
              "    <tr>\n",
              "      <th>0</th>\n",
              "      <td>Tamoxifen</td>\n",
              "      <td>breast cancer</td>\n",
              "      <td>Tamoxifen for the treatment and prevention of ...</td>\n",
              "      <td>1.0</td>\n",
              "    </tr>\n",
              "    <tr>\n",
              "      <th>1</th>\n",
              "      <td>methotrexate</td>\n",
              "      <td>rheumatoid arthritis</td>\n",
              "      <td>-LSB- Use of methotrexate in the treatment of ...</td>\n",
              "      <td>1.0</td>\n",
              "    </tr>\n",
              "    <tr>\n",
              "      <th>2</th>\n",
              "      <td>TAM</td>\n",
              "      <td>breast cancer</td>\n",
              "      <td>The mutations of OATP1B1 388GG and 521CC inhib...</td>\n",
              "      <td>1.0</td>\n",
              "    </tr>\n",
              "    <tr>\n",
              "      <th>3</th>\n",
              "      <td>STI571</td>\n",
              "      <td>chronic myelogenous leukemia</td>\n",
              "      <td>OBJECTIVE : The aim of this study was the prec...</td>\n",
              "      <td>1.0</td>\n",
              "    </tr>\n",
              "    <tr>\n",
              "      <th>4</th>\n",
              "      <td>Sorafenib</td>\n",
              "      <td>HCC</td>\n",
              "      <td>Sorafenib plus cisplatin and gemcitabine in th...</td>\n",
              "      <td>1.0</td>\n",
              "    </tr>\n",
              "  </tbody>\n",
              "</table>\n",
              "</div>"
            ],
            "text/plain": [
              "           drug  ... score\n",
              "0     Tamoxifen  ...   1.0\n",
              "1  methotrexate  ...   1.0\n",
              "2           TAM  ...   1.0\n",
              "3        STI571  ...   1.0\n",
              "4     Sorafenib  ...   1.0\n",
              "\n",
              "[5 rows x 4 columns]"
            ]
          },
          "metadata": {
            "tags": []
          },
          "execution_count": 21
        }
      ]
    },
    {
      "cell_type": "code",
      "metadata": {
        "id": "xMa4FRM3fjtJ",
        "colab_type": "code",
        "outputId": "a87cfb67-db2e-4e0b-d694-e840b5d7849c",
        "colab": {
          "base_uri": "https://localhost:8080/",
          "height": 370
        }
      },
      "source": [
        "negatives_df.head()"
      ],
      "execution_count": 0,
      "outputs": [
        {
          "output_type": "execute_result",
          "data": {
            "text/html": [
              "<div>\n",
              "<style scoped>\n",
              "    .dataframe tbody tr th:only-of-type {\n",
              "        vertical-align: middle;\n",
              "    }\n",
              "\n",
              "    .dataframe tbody tr th {\n",
              "        vertical-align: top;\n",
              "    }\n",
              "\n",
              "    .dataframe thead th {\n",
              "        text-align: right;\n",
              "    }\n",
              "</style>\n",
              "<table border=\"1\" class=\"dataframe\">\n",
              "  <thead>\n",
              "    <tr style=\"text-align: right;\">\n",
              "      <th></th>\n",
              "      <th>Unnamed: 0</th>\n",
              "      <th>sha</th>\n",
              "      <th>blockid</th>\n",
              "      <th>word_drug</th>\n",
              "      <th>sec</th>\n",
              "      <th>orig_sentence</th>\n",
              "      <th>new_sentence</th>\n",
              "      <th>inserted_word</th>\n",
              "    </tr>\n",
              "  </thead>\n",
              "  <tbody>\n",
              "    <tr>\n",
              "      <th>0</th>\n",
              "      <td>0</td>\n",
              "      <td>c86aeb45062aa6a85a08a2fc1e3806bd57add39b</td>\n",
              "      <td>0</td>\n",
              "      <td>cholesterol</td>\n",
              "      <td>body</td>\n",
              "      <td>191-192, 192t, 193t clinical signs of, 193 di...</td>\n",
              "      <td>191-192, 192t, 193t clinical signs of, 193 di...</td>\n",
              "      <td>improve</td>\n",
              "    </tr>\n",
              "    <tr>\n",
              "      <th>1</th>\n",
              "      <td>1</td>\n",
              "      <td>922e59f9a0ff746cf0d43e10989359ae9764a213</td>\n",
              "      <td>52</td>\n",
              "      <td>cidofovir</td>\n",
              "      <td>body</td>\n",
              "      <td>voraus! Antibiotikaempfindlichkeit HHV-6 ist g...</td>\n",
              "      <td>voraus! Antibiotikaempfindlichkeit HHV-6 reduc...</td>\n",
              "      <td>reduce</td>\n",
              "    </tr>\n",
              "    <tr>\n",
              "      <th>2</th>\n",
              "      <td>2</td>\n",
              "      <td>922e59f9a0ff746cf0d43e10989359ae9764a213</td>\n",
              "      <td>52</td>\n",
              "      <td>foscarnet</td>\n",
              "      <td>body</td>\n",
              "      <td>voraus! Antibiotikaempfindlichkeit HHV-6 ist g...</td>\n",
              "      <td>voraus! Antibiotikaempfindlichkeit HHV-6 ist g...</td>\n",
              "      <td>suppress</td>\n",
              "    </tr>\n",
              "    <tr>\n",
              "      <th>3</th>\n",
              "      <td>3</td>\n",
              "      <td>922e59f9a0ff746cf0d43e10989359ae9764a213</td>\n",
              "      <td>52</td>\n",
              "      <td>ganciclovir</td>\n",
              "      <td>body</td>\n",
              "      <td>voraus! Antibiotikaempfindlichkeit HHV-6 ist g...</td>\n",
              "      <td>voraus! Antibiotikaempfindlichkeit HHV-6 ist g...</td>\n",
              "      <td>therapeutic</td>\n",
              "    </tr>\n",
              "    <tr>\n",
              "      <th>4</th>\n",
              "      <td>4</td>\n",
              "      <td>29e127bd725d589be1458079521381080cfc2e90</td>\n",
              "      <td>15</td>\n",
              "      <td>air</td>\n",
              "      <td>body</td>\n",
              "      <td>\" Significantly different on comparison of ozo...</td>\n",
              "      <td>\" suppression Significantly different on compa...</td>\n",
              "      <td>suppression</td>\n",
              "    </tr>\n",
              "  </tbody>\n",
              "</table>\n",
              "</div>"
            ],
            "text/plain": [
              "   Unnamed: 0  ... inserted_word\n",
              "0           0  ...       improve\n",
              "1           1  ...        reduce\n",
              "2           2  ...      suppress\n",
              "3           3  ...   therapeutic\n",
              "4           4  ...   suppression\n",
              "\n",
              "[5 rows x 8 columns]"
            ]
          },
          "metadata": {
            "tags": []
          },
          "execution_count": 22
        }
      ]
    },
    {
      "cell_type": "markdown",
      "metadata": {
        "id": "CGrkzZ-WgDV_",
        "colab_type": "text"
      },
      "source": [
        "**Assumption 1** \n",
        "\n",
        "All data in the positive_df is actually positive. The positive_df here is a set of sentences that comes from this resource called [GNBR](https://zenodo.org/record/1134693#.Xo7aktNKjys), which is based on these references: \n",
        "\n",
        "1. https://www.ncbi.nlm.nih.gov/pubmed/29490008\n",
        "\n",
        "2. https://journals.plos.org/ploscompbiol/article?id=10.1371/journal.pcbi.1004216). "
      ]
    },
    {
      "cell_type": "code",
      "metadata": {
        "id": "G-AB7X49gEeq",
        "colab_type": "code",
        "colab": {}
      },
      "source": [
        "positive_df['label'] = 1"
      ],
      "execution_count": 0,
      "outputs": []
    },
    {
      "cell_type": "markdown",
      "metadata": {
        "id": "-h6MhvWgg7QG",
        "colab_type": "text"
      },
      "source": [
        "**Assumption 2**\n",
        "\n",
        "All data in the negative_df is actually negative. Not sure where these sentences came from at the moment. But was assured that they should work."
      ]
    },
    {
      "cell_type": "code",
      "metadata": {
        "id": "217mLU_7g-92",
        "colab_type": "code",
        "colab": {}
      },
      "source": [
        "negatives_df['label'] = 0\n",
        "negatives_df = negatives_df.rename(columns={'new_sentence': 'sentence', \"word_drug\":'drug', 'inserted_word':\"treatment\"})"
      ],
      "execution_count": 0,
      "outputs": []
    },
    {
      "cell_type": "markdown",
      "metadata": {
        "id": "RJD73m1ph0od",
        "colab_type": "text"
      },
      "source": [
        "**Combining Positive and Negative Examples**\n",
        "\n",
        "As there is a class imbalance 194,765 vs 30,000 we probably don't want to merge all negative examples together. Instead we will use 40k negative examples and all 30k positive ones."
      ]
    },
    {
      "cell_type": "code",
      "metadata": {
        "id": "zZ8EhFjFiWho",
        "colab_type": "code",
        "outputId": "2e4b3037-4fe1-4ad5-f932-6b305c8f3e5c",
        "colab": {
          "base_uri": "https://localhost:8080/",
          "height": 320
        }
      },
      "source": [
        "frames = [positive_df, negatives_df.sample(40000)]\n",
        "combined_traindf = pd.concat(frames)\n",
        "combined_traindf.head()"
      ],
      "execution_count": 107,
      "outputs": [
        {
          "output_type": "execute_result",
          "data": {
            "text/html": [
              "<div>\n",
              "<style scoped>\n",
              "    .dataframe tbody tr th:only-of-type {\n",
              "        vertical-align: middle;\n",
              "    }\n",
              "\n",
              "    .dataframe tbody tr th {\n",
              "        vertical-align: top;\n",
              "    }\n",
              "\n",
              "    .dataframe thead th {\n",
              "        text-align: right;\n",
              "    }\n",
              "</style>\n",
              "<table border=\"1\" class=\"dataframe\">\n",
              "  <thead>\n",
              "    <tr style=\"text-align: right;\">\n",
              "      <th></th>\n",
              "      <th>drug</th>\n",
              "      <th>disease</th>\n",
              "      <th>sentence</th>\n",
              "      <th>score</th>\n",
              "      <th>label</th>\n",
              "      <th>Unnamed: 0</th>\n",
              "      <th>sha</th>\n",
              "      <th>blockid</th>\n",
              "      <th>sec</th>\n",
              "      <th>orig_sentence</th>\n",
              "      <th>treatment</th>\n",
              "    </tr>\n",
              "  </thead>\n",
              "  <tbody>\n",
              "    <tr>\n",
              "      <th>0</th>\n",
              "      <td>Tamoxifen</td>\n",
              "      <td>breast cancer</td>\n",
              "      <td>Tamoxifen for the treatment and prevention of ...</td>\n",
              "      <td>1.0</td>\n",
              "      <td>1</td>\n",
              "      <td>NaN</td>\n",
              "      <td>NaN</td>\n",
              "      <td>NaN</td>\n",
              "      <td>NaN</td>\n",
              "      <td>NaN</td>\n",
              "      <td>NaN</td>\n",
              "    </tr>\n",
              "    <tr>\n",
              "      <th>1</th>\n",
              "      <td>methotrexate</td>\n",
              "      <td>rheumatoid arthritis</td>\n",
              "      <td>-LSB- Use of methotrexate in the treatment of ...</td>\n",
              "      <td>1.0</td>\n",
              "      <td>1</td>\n",
              "      <td>NaN</td>\n",
              "      <td>NaN</td>\n",
              "      <td>NaN</td>\n",
              "      <td>NaN</td>\n",
              "      <td>NaN</td>\n",
              "      <td>NaN</td>\n",
              "    </tr>\n",
              "    <tr>\n",
              "      <th>2</th>\n",
              "      <td>TAM</td>\n",
              "      <td>breast cancer</td>\n",
              "      <td>The mutations of OATP1B1 388GG and 521CC inhib...</td>\n",
              "      <td>1.0</td>\n",
              "      <td>1</td>\n",
              "      <td>NaN</td>\n",
              "      <td>NaN</td>\n",
              "      <td>NaN</td>\n",
              "      <td>NaN</td>\n",
              "      <td>NaN</td>\n",
              "      <td>NaN</td>\n",
              "    </tr>\n",
              "    <tr>\n",
              "      <th>3</th>\n",
              "      <td>STI571</td>\n",
              "      <td>chronic myelogenous leukemia</td>\n",
              "      <td>OBJECTIVE : The aim of this study was the prec...</td>\n",
              "      <td>1.0</td>\n",
              "      <td>1</td>\n",
              "      <td>NaN</td>\n",
              "      <td>NaN</td>\n",
              "      <td>NaN</td>\n",
              "      <td>NaN</td>\n",
              "      <td>NaN</td>\n",
              "      <td>NaN</td>\n",
              "    </tr>\n",
              "    <tr>\n",
              "      <th>4</th>\n",
              "      <td>Sorafenib</td>\n",
              "      <td>HCC</td>\n",
              "      <td>Sorafenib plus cisplatin and gemcitabine in th...</td>\n",
              "      <td>1.0</td>\n",
              "      <td>1</td>\n",
              "      <td>NaN</td>\n",
              "      <td>NaN</td>\n",
              "      <td>NaN</td>\n",
              "      <td>NaN</td>\n",
              "      <td>NaN</td>\n",
              "      <td>NaN</td>\n",
              "    </tr>\n",
              "  </tbody>\n",
              "</table>\n",
              "</div>"
            ],
            "text/plain": [
              "           drug                       disease  ... orig_sentence  treatment\n",
              "0     Tamoxifen                 breast cancer  ...           NaN        NaN\n",
              "1  methotrexate          rheumatoid arthritis  ...           NaN        NaN\n",
              "2           TAM                 breast cancer  ...           NaN        NaN\n",
              "3        STI571  chronic myelogenous leukemia  ...           NaN        NaN\n",
              "4     Sorafenib                           HCC  ...           NaN        NaN\n",
              "\n",
              "[5 rows x 11 columns]"
            ]
          },
          "metadata": {
            "tags": []
          },
          "execution_count": 107
        }
      ]
    },
    {
      "cell_type": "markdown",
      "metadata": {
        "id": "JPuHI4FdkPel",
        "colab_type": "text"
      },
      "source": [
        "**Using no masking**\n",
        "\n",
        "While GAD does use masking we decided to first test whether masking is really necessary. "
      ]
    },
    {
      "cell_type": "code",
      "metadata": {
        "id": "3DoMQJWMkSAA",
        "colab_type": "code",
        "colab": {}
      },
      "source": [
        "export_df = combined_traindf[['sentence', 'label']]\n",
        "# We want to shuffle positive and negative examples.\n",
        "export_df = export_df.sample(frac=1)"
      ],
      "execution_count": 0,
      "outputs": []
    },
    {
      "cell_type": "code",
      "metadata": {
        "id": "q4MgVOPak7yf",
        "colab_type": "code",
        "outputId": "613c7f96-1a93-493e-9602-e53d191f3ae1",
        "colab": {
          "base_uri": "https://localhost:8080/",
          "height": 696
        }
      },
      "source": [
        "print(len(export_df))\n",
        "export_df[:59000].to_csv('no_mask_train_data.tsv', index=False, header=False, sep='\\t')\n",
        "export_df[59000:60000].to_csv('no_mask_dev_data.tsv', index=False, header=False, sep='\\t')\n",
        "export_df[60000:].to_csv('no_mask_dev_eval.tsv', index=False, header=True, sep='\\t')\n",
        "export_df.head(20)"
      ],
      "execution_count": 115,
      "outputs": [
        {
          "output_type": "stream",
          "text": [
            "61296\n"
          ],
          "name": "stdout"
        },
        {
          "output_type": "execute_result",
          "data": {
            "text/html": [
              "<div>\n",
              "<style scoped>\n",
              "    .dataframe tbody tr th:only-of-type {\n",
              "        vertical-align: middle;\n",
              "    }\n",
              "\n",
              "    .dataframe tbody tr th {\n",
              "        vertical-align: top;\n",
              "    }\n",
              "\n",
              "    .dataframe thead th {\n",
              "        text-align: right;\n",
              "    }\n",
              "</style>\n",
              "<table border=\"1\" class=\"dataframe\">\n",
              "  <thead>\n",
              "    <tr style=\"text-align: right;\">\n",
              "      <th></th>\n",
              "      <th>sentence</th>\n",
              "      <th>label</th>\n",
              "    </tr>\n",
              "  </thead>\n",
              "  <tbody>\n",
              "    <tr>\n",
              "      <th>121658</th>\n",
              "      <td>HCV genotype was determined by hybridization o...</td>\n",
              "      <td>0</td>\n",
              "    </tr>\n",
              "    <tr>\n",
              "      <th>22523</th>\n",
              "      <td>The introduction of imatinib_mesylate has chan...</td>\n",
              "      <td>1</td>\n",
              "    </tr>\n",
              "    <tr>\n",
              "      <th>23245</th>\n",
              "      <td>The standard therapy for unresectable HCC with...</td>\n",
              "      <td>1</td>\n",
              "    </tr>\n",
              "    <tr>\n",
              "      <th>12517</th>\n",
              "      <td>After the final ethanol wash, add cure 100% et...</td>\n",
              "      <td>0</td>\n",
              "    </tr>\n",
              "    <tr>\n",
              "      <th>154939</th>\n",
              "      <td>Washed samples were suppression negatively sta...</td>\n",
              "      <td>0</td>\n",
              "    </tr>\n",
              "    <tr>\n",
              "      <th>7449</th>\n",
              "      <td>Methods : We performed a French multicenter re...</td>\n",
              "      <td>1</td>\n",
              "    </tr>\n",
              "    <tr>\n",
              "      <th>114198</th>\n",
              "      <td>Quantitative viral culture was difficult to pe...</td>\n",
              "      <td>0</td>\n",
              "    </tr>\n",
              "    <tr>\n",
              "      <th>29968</th>\n",
              "      <td>The routine use of 5 years of adjuvant tamoxif...</td>\n",
              "      <td>1</td>\n",
              "    </tr>\n",
              "    <tr>\n",
              "      <th>37966</th>\n",
              "      <td>Resistant strains (n = 80): oxacillin 45%, gen...</td>\n",
              "      <td>0</td>\n",
              "    </tr>\n",
              "    <tr>\n",
              "      <th>136907</th>\n",
              "      <td>The increase in the blood urea nitrogen level,...</td>\n",
              "      <td>0</td>\n",
              "    </tr>\n",
              "    <tr>\n",
              "      <th>192984</th>\n",
              "      <td>• Analgesia with butorphanol tartrate and/or a...</td>\n",
              "      <td>0</td>\n",
              "    </tr>\n",
              "    <tr>\n",
              "      <th>16792</th>\n",
              "      <td>Tamoxifen , which functions as a competitive p...</td>\n",
              "      <td>1</td>\n",
              "    </tr>\n",
              "    <tr>\n",
              "      <th>3334</th>\n",
              "      <td>Suboptimal response in chronic_myeloid_leukemi...</td>\n",
              "      <td>1</td>\n",
              "    </tr>\n",
              "    <tr>\n",
              "      <th>17178</th>\n",
              "      <td>Additionally , release of CEV from the cell re...</td>\n",
              "      <td>1</td>\n",
              "    </tr>\n",
              "    <tr>\n",
              "      <th>72596</th>\n",
              "      <td>When expressed in yeast, LegC2, LegC3 therapeu...</td>\n",
              "      <td>0</td>\n",
              "    </tr>\n",
              "    <tr>\n",
              "      <th>97710</th>\n",
              "      <td>34 Briefly, BM was flushed from dissected tibi...</td>\n",
              "      <td>0</td>\n",
              "    </tr>\n",
              "    <tr>\n",
              "      <th>44629</th>\n",
              "      <td>Pasireotide, a somatostatin analogue with high...</td>\n",
              "      <td>0</td>\n",
              "    </tr>\n",
              "    <tr>\n",
              "      <th>54902</th>\n",
              "      <td>For Western blot analysis cells were lysed wit...</td>\n",
              "      <td>0</td>\n",
              "    </tr>\n",
              "    <tr>\n",
              "      <th>138158</th>\n",
              "      <td>The extraction procedure was carried out succe...</td>\n",
              "      <td>0</td>\n",
              "    </tr>\n",
              "    <tr>\n",
              "      <th>114343</th>\n",
              "      <td>prescribe RAPID COMMUNICATION Real Time Detect...</td>\n",
              "      <td>0</td>\n",
              "    </tr>\n",
              "  </tbody>\n",
              "</table>\n",
              "</div>"
            ],
            "text/plain": [
              "                                                 sentence  label\n",
              "121658  HCV genotype was determined by hybridization o...      0\n",
              "22523   The introduction of imatinib_mesylate has chan...      1\n",
              "23245   The standard therapy for unresectable HCC with...      1\n",
              "12517   After the final ethanol wash, add cure 100% et...      0\n",
              "154939  Washed samples were suppression negatively sta...      0\n",
              "7449    Methods : We performed a French multicenter re...      1\n",
              "114198  Quantitative viral culture was difficult to pe...      0\n",
              "29968   The routine use of 5 years of adjuvant tamoxif...      1\n",
              "37966   Resistant strains (n = 80): oxacillin 45%, gen...      0\n",
              "136907  The increase in the blood urea nitrogen level,...      0\n",
              "192984  • Analgesia with butorphanol tartrate and/or a...      0\n",
              "16792   Tamoxifen , which functions as a competitive p...      1\n",
              "3334    Suboptimal response in chronic_myeloid_leukemi...      1\n",
              "17178   Additionally , release of CEV from the cell re...      1\n",
              "72596   When expressed in yeast, LegC2, LegC3 therapeu...      0\n",
              "97710   34 Briefly, BM was flushed from dissected tibi...      0\n",
              "44629   Pasireotide, a somatostatin analogue with high...      0\n",
              "54902   For Western blot analysis cells were lysed wit...      0\n",
              "138158  The extraction procedure was carried out succe...      0\n",
              "114343  prescribe RAPID COMMUNICATION Real Time Detect...      0"
            ]
          },
          "metadata": {
            "tags": []
          },
          "execution_count": 115
        }
      ]
    },
    {
      "cell_type": "code",
      "metadata": {
        "id": "LsFWR9ymle2f",
        "colab_type": "code",
        "outputId": "3bf73280-f3c5-4c4d-9f7e-17ba4d91c394",
        "colab": {
          "base_uri": "https://localhost:8080/",
          "height": 186
        }
      },
      "source": [
        "from google.colab import auth\n",
        "auth.authenticate_user()\n",
        "!gsutil cp no_mask_train_data.tsv gs://coronaviruspublicdata/snapshot_re_4_12_2020/no_mask_train.tsv \n",
        "!gsutil cp no_mask_dev_data.tsv gs://coronaviruspublicdata/snapshot_re_4_12_2020/no_mask_dev.tsv\n",
        "!gsutil cp no_mask_dev_eval.tsv gs://coronaviruspublicdata/snapshot_re_4_12_2020/no_mask_eval2.tsv                       "
      ],
      "execution_count": 116,
      "outputs": [
        {
          "output_type": "stream",
          "text": [
            "Copying file://no_mask_train_data.tsv [Content-Type=text/tab-separated-values]...\n",
            "-\n",
            "Operation completed over 1 objects/11.1 MiB.                                     \n",
            "Copying file://no_mask_dev_data.tsv [Content-Type=text/tab-separated-values]...\n",
            "-\n",
            "Operation completed over 1 objects/191.6 KiB.                                    \n",
            "Copying file://no_mask_dev_eval.tsv [Content-Type=text/tab-separated-values]...\n",
            "-\n",
            "Operation completed over 1 objects/250.0 KiB.                                    \n"
          ],
          "name": "stdout"
        }
      ]
    },
    {
      "cell_type": "markdown",
      "metadata": {
        "id": "kDJB86g0oVwI",
        "colab_type": "text"
      },
      "source": [
        "**Adding Evaluation Data**"
      ]
    },
    {
      "cell_type": "code",
      "metadata": {
        "id": "xNv6HtMVoayr",
        "colab_type": "code",
        "colab": {}
      },
      "source": [
        "eval_data_df = pd.read_excel(\"drugvis.xlsx\", sheet_name = 0).drop_duplicates(subset='sentence')\n",
        "eval_data_df['label'] = eval_data_df['Target']\n",
        "eval_data_df.sample(frac=1)\n",
        "train_eval = eval_data_df[:200]\n",
        "dev_eval = eval_data_df[200:210]\n",
        "test_eval = eval_data_df[210:]"
      ],
      "execution_count": 0,
      "outputs": []
    },
    {
      "cell_type": "code",
      "metadata": {
        "id": "2FBjOFm4oxJD",
        "colab_type": "code",
        "outputId": "c37b4eca-7192-4962-83c3-8be5b50a0044",
        "colab": {
          "base_uri": "https://localhost:8080/",
          "height": 186
        }
      },
      "source": [
        "#eval_data_df[['sentence', 'label']].to_csv('eval_data.tsv', index=False, header=True, sep='\\t')\n",
        "#!gsutil cp eval_data.tsv gs://coronaviruspublicdata/snapshot_re_4_12_2020/eval_data.tsv\n",
        "# Data for here \n",
        "train_eval[['sentence', 'label']].to_csv('drug_train_data.tsv', index=False, header=False, sep='\\t')\n",
        "dev_eval[['sentence', 'label']].to_csv('drug_dev_data.tsv', index=False, header=False, sep='\\t')\n",
        "test_eval[['sentence', 'label']].to_csv('drug_test_data.tsv', index=False, header=True, sep='\\t')\n",
        "!gsutil cp drug_train_data.tsv gs://coronaviruspublicdata/snapshot_re_4_12_2020/drug_train_data.tsv\n",
        "!gsutil cp drug_dev_data.tsv gs://coronaviruspublicdata/snapshot_re_4_12_2020/drug_dev_data.tsv\n",
        "!gsutil cp drug_test_data.tsv gs://coronaviruspublicdata/snapshot_re_4_12_2020/drug_test_data.tsv"
      ],
      "execution_count": 122,
      "outputs": [
        {
          "output_type": "stream",
          "text": [
            "Copying file://drug_train_data.tsv [Content-Type=text/tab-separated-values]...\n",
            "/ [1 files][ 49.6 KiB/ 49.6 KiB]                                                \n",
            "Operation completed over 1 objects/49.6 KiB.                                     \n",
            "Copying file://drug_dev_data.tsv [Content-Type=text/tab-separated-values]...\n",
            "/ [1 files][  1.4 KiB/  1.4 KiB]                                                \n",
            "Operation completed over 1 objects/1.4 KiB.                                      \n",
            "Copying file://drug_test_data.tsv [Content-Type=text/tab-separated-values]...\n",
            "/ [1 files][ 34.3 KiB/ 34.3 KiB]                                                \n",
            "Operation completed over 1 objects/34.3 KiB.                                     \n"
          ],
          "name": "stdout"
        }
      ]
    },
    {
      "cell_type": "code",
      "metadata": {
        "id": "sQvNJg3XRSkh",
        "colab_type": "code",
        "colab": {
          "base_uri": "https://localhost:8080/",
          "height": 186
        },
        "outputId": "17d69d76-9504-4f75-a473-54a1e506b75e"
      },
      "source": [
        "train_eval[['sentence', 'label']].to_csv('drug_train_data.csv', index=True, header=True)\n",
        "dev_eval[['sentence', 'label']].to_csv('drug_dev_data.csv', index=True, header=True)\n",
        "test_eval[['sentence', 'label']].to_csv('drug_test_data.csv', index=True, header=True)\n",
        "!gsutil cp drug_train_data.csv gs://coronaviruspublicdata/snapshot_re_4_12_2020/drug_train_data.csv\n",
        "!gsutil cp drug_dev_data.csv gs://coronaviruspublicdata/snapshot_re_4_12_2020/drug_dev_data.csv\n",
        "!gsutil cp drug_test_data.csv gs://coronaviruspublicdata/snapshot_re_4_12_2020/drug_test_data.csv"
      ],
      "execution_count": 128,
      "outputs": [
        {
          "output_type": "stream",
          "text": [
            "Copying file://drug_train_data.csv [Content-Type=text/csv]...\n",
            "/ [1 files][ 50.6 KiB/ 50.6 KiB]                                                \n",
            "Operation completed over 1 objects/50.6 KiB.                                     \n",
            "Copying file://drug_dev_data.csv [Content-Type=text/csv]...\n",
            "/ [1 files][  1.5 KiB/  1.5 KiB]                                                \n",
            "Operation completed over 1 objects/1.5 KiB.                                      \n",
            "Copying file://drug_test_data.csv [Content-Type=text/csv]...\n",
            "/ [1 files][ 35.2 KiB/ 35.2 KiB]                                                \n",
            "Operation completed over 1 objects/35.2 KiB.                                     \n"
          ],
          "name": "stdout"
        }
      ]
    },
    {
      "cell_type": "code",
      "metadata": {
        "id": "NoFF_QXmGtrH",
        "colab_type": "code",
        "colab": {
          "base_uri": "https://localhost:8080/",
          "height": 282
        },
        "outputId": "733866e7-59d9-44f0-c286-b983c1e1858f"
      },
      "source": [
        "hist = train_eval['label'].value_counts().plot(kind='bar')\n"
      ],
      "execution_count": 127,
      "outputs": [
        {
          "output_type": "display_data",
          "data": {
            "image/png": "[encoded data removed]",
            "text/plain": [
              "<Figure size 432x288 with 1 Axes>"
            ]
          },
          "metadata": {
            "tags": [],
            "needs_background": "light"
          }
        }
      ]
    },
    {
      "cell_type": "markdown",
      "metadata": {
        "id": "3LPp-dnmn0B0",
        "colab_type": "text"
      },
      "source": [
        "## Creating the mask \n",
        "As stated earlier however GAD uses masking so we might want masks."
      ]
    },
    {
      "cell_type": "code",
      "metadata": {
        "id": "naKhHErbn2D-",
        "colab_type": "code",
        "colab": {}
      },
      "source": [
        ""
      ],
      "execution_count": 0,
      "outputs": []
    }
  ]
}