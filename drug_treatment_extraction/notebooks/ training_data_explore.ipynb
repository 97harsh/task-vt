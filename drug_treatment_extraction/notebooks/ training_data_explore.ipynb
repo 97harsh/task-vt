{
  "nbformat": 4,
  "nbformat_minor": 0,
  "metadata": {
    "colab": {
      "name": "make-train.ipynb",
      "provenance": [],
      "collapsed_sections": [],
      "toc_visible": true,
      "authorship_tag": "ABX9TyMoWDDaD1Ql3NFq83LbmQLA",
      "include_colab_link": true
    },
    "kernelspec": {
      "name": "python3",
      "display_name": "Python 3"
    }
  },
  "cells": [
    {
      "cell_type": "markdown",
      "metadata": {
        "id": "view-in-github",
        "colab_type": "text"
      },
      "source": [
        "<a href=\"https://colab.research.google.com/github/isaacmg/task-vt/blob/re_model_revised/training_data_explore.ipynb\" target=\"_parent\"><img src=\"https://colab.research.google.com/assets/colab-badge.svg\" alt=\"Open In Colab\"/></a>"
      ]
    },
    {
      "cell_type": "markdown",
      "metadata": {
        "id": "npZnVVmqfxIl",
        "colab_type": "text"
      },
      "source": [
        "## Creating Training Data for Relation Extraction\n",
        "This is a brief notebook to show how data training/test data was created for the relation extraction task. The goal of this pre-processing is to put data in a format roughly analogous to the GAD training data found for BioBERT. In the GAD data we have TSV sperated file with a sentence, a gene_mask a diesase_mask, and a binary label (0,1). \n",
        "```\n",
        "Our findings indicate that the @GENE$ -141C Ins allele and the 5-HTTLPR S allele are genetic risk factors for alcoholism in Mexican-Americans, and that smoking modulates the association between genetic risk factors and @DISEASE$.\t1\n",
        "\n",
        "Our matched case-control and family study indicate that Cx50, but not @GENE$, may play a role in the genetic susceptibility to @DISEASE$.\t0\n",
        "```"
      ]
    },
    {
      "cell_type": "code",
      "metadata": {
        "id": "ev_kji07dDko",
        "colab_type": "code",
        "outputId": "470e23f9-b594-48d8-cb4b-a2cb0eff3dfc",
        "colab": {
          "base_uri": "https://localhost:8080/",
          "height": 186
        }
      },
      "source": [
        "!gsutil cp gs://coronaviruspublicdata/snapshot_re_4_12_2020/drugvisdata.xlsx\tdrugvis.xlsx\n",
        "!gsutil cp gs://coronaviruspublicdata/snapshot_re_4_12_2020/FakeSentences_For_Aradana.csv\tfakes.csv\n",
        "!gsutil cp gs://coronaviruspublicdata/snapshot_re_4_12_2020/export.csv export.csv\n"
      ],
      "execution_count": 0,
      "outputs": [
        {
          "output_type": "stream",
          "text": [
            "Copying gs://coronaviruspublicdata/snapshot_re_4_12_2020/drugvisdata.xlsx...\n",
            "- [1 files][122.9 KiB/122.9 KiB]                                                \n",
            "Operation completed over 1 objects/122.9 KiB.                                    \n",
            "Copying gs://coronaviruspublicdata/snapshot_re_4_12_2020/FakeSentences_For_Aradana.csv...\n",
            "- [1 files][ 88.9 MiB/ 88.9 MiB]                                                \n",
            "Operation completed over 1 objects/88.9 MiB.                                     \n",
            "Copying gs://coronaviruspublicdata/snapshot_re_4_12_2020/export.csv...\n",
            "/ [1 files][  6.5 MiB/  6.5 MiB]                                                \n",
            "Operation completed over 1 objects/6.5 MiB.                                      \n"
          ],
          "name": "stdout"
        }
      ]
    },
    {
      "cell_type": "code",
      "metadata": {
        "id": "NZtkxhh9dhZb",
        "colab_type": "code",
        "colab": {}
      },
      "source": [
        "import pandas as pd\n",
        "positive_df = pd.read_csv(\"export.csv\").drop_duplicates(subset='sentence')\n",
        "negatives_df = pd.read_csv(\"fakes.csv\").drop_duplicates(subset='new_sentence')"
      ],
      "execution_count": 0,
      "outputs": []
    },
    {
      "cell_type": "code",
      "metadata": {
        "id": "vo4Wc_j4fHlV",
        "colab_type": "code",
        "outputId": "4703e775-8c89-4142-aca7-b89667efdb70",
        "colab": {
          "base_uri": "https://localhost:8080/",
          "height": 54
        }
      },
      "source": [
        "len(positive_df)"
      ],
      "execution_count": 0,
      "outputs": [
        {
          "output_type": "execute_result",
          "data": {
            "text/plain": [
              "21296"
            ]
          },
          "metadata": {
            "tags": []
          },
          "execution_count": 77
        }
      ]
    },
    {
      "cell_type": "code",
      "metadata": {
        "id": "K48VqjTFfPQy",
        "colab_type": "code",
        "outputId": "f82f8b51-edfb-4360-abca-0d33b56913b0",
        "colab": {
          "base_uri": "https://localhost:8080/",
          "height": 54
        }
      },
      "source": [
        "len(negatives_df)"
      ],
      "execution_count": 0,
      "outputs": [
        {
          "output_type": "execute_result",
          "data": {
            "text/plain": [
              "194674"
            ]
          },
          "metadata": {
            "tags": []
          },
          "execution_count": 78
        }
      ]
    },
    {
      "cell_type": "code",
      "metadata": {
        "id": "C15cWbaeffHW",
        "colab_type": "code",
        "outputId": "0874af10-197e-44cf-aecd-29573dccbe96",
        "colab": {
          "base_uri": "https://localhost:8080/",
          "height": 221
        }
      },
      "source": [
        "positive_df.head()"
      ],
      "execution_count": 0,
      "outputs": [
        {
          "output_type": "execute_result",
          "data": {
            "text/html": [
              "<div>\n",
              "<style scoped>\n",
              "    .dataframe tbody tr th:only-of-type {\n",
              "        vertical-align: middle;\n",
              "    }\n",
              "\n",
              "    .dataframe tbody tr th {\n",
              "        vertical-align: top;\n",
              "    }\n",
              "\n",
              "    .dataframe thead th {\n",
              "        text-align: right;\n",
              "    }\n",
              "</style>\n",
              "<table border=\"1\" class=\"dataframe\">\n",
              "  <thead>\n",
              "    <tr style=\"text-align: right;\">\n",
              "      <th></th>\n",
              "      <th>drug</th>\n",
              "      <th>disease</th>\n",
              "      <th>sentence</th>\n",
              "      <th>score</th>\n",
              "    </tr>\n",
              "  </thead>\n",
              "  <tbody>\n",
              "    <tr>\n",
              "      <th>0</th>\n",
              "      <td>Tamoxifen</td>\n",
              "      <td>breast cancer</td>\n",
              "      <td>Tamoxifen for the treatment and prevention of ...</td>\n",
              "      <td>1.0</td>\n",
              "    </tr>\n",
              "    <tr>\n",
              "      <th>1</th>\n",
              "      <td>methotrexate</td>\n",
              "      <td>rheumatoid arthritis</td>\n",
              "      <td>-LSB- Use of methotrexate in the treatment of ...</td>\n",
              "      <td>1.0</td>\n",
              "    </tr>\n",
              "    <tr>\n",
              "      <th>2</th>\n",
              "      <td>TAM</td>\n",
              "      <td>breast cancer</td>\n",
              "      <td>The mutations of OATP1B1 388GG and 521CC inhib...</td>\n",
              "      <td>1.0</td>\n",
              "    </tr>\n",
              "    <tr>\n",
              "      <th>3</th>\n",
              "      <td>STI571</td>\n",
              "      <td>chronic myelogenous leukemia</td>\n",
              "      <td>OBJECTIVE : The aim of this study was the prec...</td>\n",
              "      <td>1.0</td>\n",
              "    </tr>\n",
              "    <tr>\n",
              "      <th>4</th>\n",
              "      <td>Sorafenib</td>\n",
              "      <td>HCC</td>\n",
              "      <td>Sorafenib plus cisplatin and gemcitabine in th...</td>\n",
              "      <td>1.0</td>\n",
              "    </tr>\n",
              "  </tbody>\n",
              "</table>\n",
              "</div>"
            ],
            "text/plain": [
              "           drug  ... score\n",
              "0     Tamoxifen  ...   1.0\n",
              "1  methotrexate  ...   1.0\n",
              "2           TAM  ...   1.0\n",
              "3        STI571  ...   1.0\n",
              "4     Sorafenib  ...   1.0\n",
              "\n",
              "[5 rows x 4 columns]"
            ]
          },
          "metadata": {
            "tags": []
          },
          "execution_count": 21
        }
      ]
    },
    {
      "cell_type": "code",
      "metadata": {
        "id": "xMa4FRM3fjtJ",
        "colab_type": "code",
        "outputId": "a87cfb67-db2e-4e0b-d694-e840b5d7849c",
        "colab": {
          "base_uri": "https://localhost:8080/",
          "height": 370
        }
      },
      "source": [
        "negatives_df.head()"
      ],
      "execution_count": 0,
      "outputs": [
        {
          "output_type": "execute_result",
          "data": {
            "text/html": [
              "<div>\n",
              "<style scoped>\n",
              "    .dataframe tbody tr th:only-of-type {\n",
              "        vertical-align: middle;\n",
              "    }\n",
              "\n",
              "    .dataframe tbody tr th {\n",
              "        vertical-align: top;\n",
              "    }\n",
              "\n",
              "    .dataframe thead th {\n",
              "        text-align: right;\n",
              "    }\n",
              "</style>\n",
              "<table border=\"1\" class=\"dataframe\">\n",
              "  <thead>\n",
              "    <tr style=\"text-align: right;\">\n",
              "      <th></th>\n",
              "      <th>Unnamed: 0</th>\n",
              "      <th>sha</th>\n",
              "      <th>blockid</th>\n",
              "      <th>word_drug</th>\n",
              "      <th>sec</th>\n",
              "      <th>orig_sentence</th>\n",
              "      <th>new_sentence</th>\n",
              "      <th>inserted_word</th>\n",
              "    </tr>\n",
              "  </thead>\n",
              "  <tbody>\n",
              "    <tr>\n",
              "      <th>0</th>\n",
              "      <td>0</td>\n",
              "      <td>c86aeb45062aa6a85a08a2fc1e3806bd57add39b</td>\n",
              "      <td>0</td>\n",
              "      <td>cholesterol</td>\n",
              "      <td>body</td>\n",
              "      <td>191-192, 192t, 193t clinical signs of, 193 di...</td>\n",
              "      <td>191-192, 192t, 193t clinical signs of, 193 di...</td>\n",
              "      <td>improve</td>\n",
              "    </tr>\n",
              "    <tr>\n",
              "      <th>1</th>\n",
              "      <td>1</td>\n",
              "      <td>922e59f9a0ff746cf0d43e10989359ae9764a213</td>\n",
              "      <td>52</td>\n",
              "      <td>cidofovir</td>\n",
              "      <td>body</td>\n",
              "      <td>voraus! Antibiotikaempfindlichkeit HHV-6 ist g...</td>\n",
              "      <td>voraus! Antibiotikaempfindlichkeit HHV-6 reduc...</td>\n",
              "      <td>reduce</td>\n",
              "    </tr>\n",
              "    <tr>\n",
              "      <th>2</th>\n",
              "      <td>2</td>\n",
              "      <td>922e59f9a0ff746cf0d43e10989359ae9764a213</td>\n",
              "      <td>52</td>\n",
              "      <td>foscarnet</td>\n",
              "      <td>body</td>\n",
              "      <td>voraus! Antibiotikaempfindlichkeit HHV-6 ist g...</td>\n",
              "      <td>voraus! Antibiotikaempfindlichkeit HHV-6 ist g...</td>\n",
              "      <td>suppress</td>\n",
              "    </tr>\n",
              "    <tr>\n",
              "      <th>3</th>\n",
              "      <td>3</td>\n",
              "      <td>922e59f9a0ff746cf0d43e10989359ae9764a213</td>\n",
              "      <td>52</td>\n",
              "      <td>ganciclovir</td>\n",
              "      <td>body</td>\n",
              "      <td>voraus! Antibiotikaempfindlichkeit HHV-6 ist g...</td>\n",
              "      <td>voraus! Antibiotikaempfindlichkeit HHV-6 ist g...</td>\n",
              "      <td>therapeutic</td>\n",
              "    </tr>\n",
              "    <tr>\n",
              "      <th>4</th>\n",
              "      <td>4</td>\n",
              "      <td>29e127bd725d589be1458079521381080cfc2e90</td>\n",
              "      <td>15</td>\n",
              "      <td>air</td>\n",
              "      <td>body</td>\n",
              "      <td>\" Significantly different on comparison of ozo...</td>\n",
              "      <td>\" suppression Significantly different on compa...</td>\n",
              "      <td>suppression</td>\n",
              "    </tr>\n",
              "  </tbody>\n",
              "</table>\n",
              "</div>"
            ],
            "text/plain": [
              "   Unnamed: 0  ... inserted_word\n",
              "0           0  ...       improve\n",
              "1           1  ...        reduce\n",
              "2           2  ...      suppress\n",
              "3           3  ...   therapeutic\n",
              "4           4  ...   suppression\n",
              "\n",
              "[5 rows x 8 columns]"
            ]
          },
          "metadata": {
            "tags": []
          },
          "execution_count": 22
        }
      ]
    },
    {
      "cell_type": "markdown",
      "metadata": {
        "id": "CGrkzZ-WgDV_",
        "colab_type": "text"
      },
      "source": [
        "**Assumption 1** \n",
        "\n",
        "All data in the positive_df is actually positive. The positive_df here is a set of sentences that comes from this resource called [GNBR](https://zenodo.org/record/1134693#.Xo7aktNKjys), which is based on these references: \n",
        "\n",
        "1. https://www.ncbi.nlm.nih.gov/pubmed/29490008\n",
        "\n",
        "2. https://journals.plos.org/ploscompbiol/article?id=10.1371/journal.pcbi.1004216). "
      ]
    },
    {
      "cell_type": "code",
      "metadata": {
        "id": "G-AB7X49gEeq",
        "colab_type": "code",
        "colab": {}
      },
      "source": [
        "positive_df['target'] = 1"
      ],
      "execution_count": 0,
      "outputs": []
    },
    {
      "cell_type": "markdown",
      "metadata": {
        "id": "-h6MhvWgg7QG",
        "colab_type": "text"
      },
      "source": [
        "**Assumption 2**\n",
        "\n",
        "All data in the negative_df is actually negative. Not sure where these sentences came from at the moment. But was assured that they should work."
      ]
    },
    {
      "cell_type": "code",
      "metadata": {
        "id": "217mLU_7g-92",
        "colab_type": "code",
        "colab": {}
      },
      "source": [
        "negatives_df['target'] = 0\n",
        "negatives_df = negatives_df.rename(columns={'new_sentence': 'sentence', \"word_drug\":'drug', 'inserted_word':\"treatment\"})"
      ],
      "execution_count": 0,
      "outputs": []
    },
    {
      "cell_type": "markdown",
      "metadata": {
        "id": "RJD73m1ph0od",
        "colab_type": "text"
      },
      "source": [
        "**Combining Positive and Negative Examples**\n",
        "\n",
        "As there is a class imbalance 194,765 vs 30,000 we probably don't want to merge all negative examples together. Instead we will use 40k negative examples and all 30k positive ones."
      ]
    },
    {
      "cell_type": "code",
      "metadata": {
        "id": "zZ8EhFjFiWho",
        "colab_type": "code",
        "outputId": "8ba4f687-8897-49d9-9d05-8d2f82125211",
        "colab": {
          "base_uri": "https://localhost:8080/",
          "height": 320
        }
      },
      "source": [
        "frames = [positive_df, negatives_df.sample(40000)]\n",
        "combined_traindf = pd.concat(frames)\n",
        "combined_traindf.head()"
      ],
      "execution_count": 0,
      "outputs": [
        {
          "output_type": "execute_result",
          "data": {
            "text/html": [
              "<div>\n",
              "<style scoped>\n",
              "    .dataframe tbody tr th:only-of-type {\n",
              "        vertical-align: middle;\n",
              "    }\n",
              "\n",
              "    .dataframe tbody tr th {\n",
              "        vertical-align: top;\n",
              "    }\n",
              "\n",
              "    .dataframe thead th {\n",
              "        text-align: right;\n",
              "    }\n",
              "</style>\n",
              "<table border=\"1\" class=\"dataframe\">\n",
              "  <thead>\n",
              "    <tr style=\"text-align: right;\">\n",
              "      <th></th>\n",
              "      <th>drug</th>\n",
              "      <th>disease</th>\n",
              "      <th>sentence</th>\n",
              "      <th>score</th>\n",
              "      <th>target</th>\n",
              "      <th>Unnamed: 0</th>\n",
              "      <th>sha</th>\n",
              "      <th>blockid</th>\n",
              "      <th>sec</th>\n",
              "      <th>orig_sentence</th>\n",
              "      <th>treatment</th>\n",
              "    </tr>\n",
              "  </thead>\n",
              "  <tbody>\n",
              "    <tr>\n",
              "      <th>0</th>\n",
              "      <td>Tamoxifen</td>\n",
              "      <td>breast cancer</td>\n",
              "      <td>Tamoxifen for the treatment and prevention of ...</td>\n",
              "      <td>1.0</td>\n",
              "      <td>1</td>\n",
              "      <td>NaN</td>\n",
              "      <td>NaN</td>\n",
              "      <td>NaN</td>\n",
              "      <td>NaN</td>\n",
              "      <td>NaN</td>\n",
              "      <td>NaN</td>\n",
              "    </tr>\n",
              "    <tr>\n",
              "      <th>1</th>\n",
              "      <td>methotrexate</td>\n",
              "      <td>rheumatoid arthritis</td>\n",
              "      <td>-LSB- Use of methotrexate in the treatment of ...</td>\n",
              "      <td>1.0</td>\n",
              "      <td>1</td>\n",
              "      <td>NaN</td>\n",
              "      <td>NaN</td>\n",
              "      <td>NaN</td>\n",
              "      <td>NaN</td>\n",
              "      <td>NaN</td>\n",
              "      <td>NaN</td>\n",
              "    </tr>\n",
              "    <tr>\n",
              "      <th>2</th>\n",
              "      <td>TAM</td>\n",
              "      <td>breast cancer</td>\n",
              "      <td>The mutations of OATP1B1 388GG and 521CC inhib...</td>\n",
              "      <td>1.0</td>\n",
              "      <td>1</td>\n",
              "      <td>NaN</td>\n",
              "      <td>NaN</td>\n",
              "      <td>NaN</td>\n",
              "      <td>NaN</td>\n",
              "      <td>NaN</td>\n",
              "      <td>NaN</td>\n",
              "    </tr>\n",
              "    <tr>\n",
              "      <th>3</th>\n",
              "      <td>STI571</td>\n",
              "      <td>chronic myelogenous leukemia</td>\n",
              "      <td>OBJECTIVE : The aim of this study was the prec...</td>\n",
              "      <td>1.0</td>\n",
              "      <td>1</td>\n",
              "      <td>NaN</td>\n",
              "      <td>NaN</td>\n",
              "      <td>NaN</td>\n",
              "      <td>NaN</td>\n",
              "      <td>NaN</td>\n",
              "      <td>NaN</td>\n",
              "    </tr>\n",
              "    <tr>\n",
              "      <th>4</th>\n",
              "      <td>Sorafenib</td>\n",
              "      <td>HCC</td>\n",
              "      <td>Sorafenib plus cisplatin and gemcitabine in th...</td>\n",
              "      <td>1.0</td>\n",
              "      <td>1</td>\n",
              "      <td>NaN</td>\n",
              "      <td>NaN</td>\n",
              "      <td>NaN</td>\n",
              "      <td>NaN</td>\n",
              "      <td>NaN</td>\n",
              "      <td>NaN</td>\n",
              "    </tr>\n",
              "  </tbody>\n",
              "</table>\n",
              "</div>"
            ],
            "text/plain": [
              "           drug                       disease  ... orig_sentence  treatment\n",
              "0     Tamoxifen                 breast cancer  ...           NaN        NaN\n",
              "1  methotrexate          rheumatoid arthritis  ...           NaN        NaN\n",
              "2           TAM                 breast cancer  ...           NaN        NaN\n",
              "3        STI571  chronic myelogenous leukemia  ...           NaN        NaN\n",
              "4     Sorafenib                           HCC  ...           NaN        NaN\n",
              "\n",
              "[5 rows x 11 columns]"
            ]
          },
          "metadata": {
            "tags": []
          },
          "execution_count": 84
        }
      ]
    },
    {
      "cell_type": "markdown",
      "metadata": {
        "id": "JPuHI4FdkPel",
        "colab_type": "text"
      },
      "source": [
        "**Using no masking**\n",
        "\n",
        "While GAD does use masking we decided to first test whether masking is really necessary. "
      ]
    },
    {
      "cell_type": "code",
      "metadata": {
        "id": "3DoMQJWMkSAA",
        "colab_type": "code",
        "colab": {}
      },
      "source": [
        "export_df = combined_traindf[['sentence', 'target']]\n",
        "# We want to shuffle positive and negative examples.\n",
        "export_df = export_df.sample(frac=1)"
      ],
      "execution_count": 0,
      "outputs": []
    },
    {
      "cell_type": "code",
      "metadata": {
        "id": "q4MgVOPak7yf",
        "colab_type": "code",
        "outputId": "7f76d671-90e6-48f4-da4b-3e13727c66e1",
        "colab": {
          "base_uri": "https://localhost:8080/",
          "height": 680
        }
      },
      "source": [
        "export_df.to_csv('no_mask_train_data.tsv', index=False, header=False, sep='\\t')\n",
        "export_df.head(20)"
      ],
      "execution_count": 94,
      "outputs": [
        {
          "output_type": "execute_result",
          "data": {
            "text/html": [
              "<div>\n",
              "<style scoped>\n",
              "    .dataframe tbody tr th:only-of-type {\n",
              "        vertical-align: middle;\n",
              "    }\n",
              "\n",
              "    .dataframe tbody tr th {\n",
              "        vertical-align: top;\n",
              "    }\n",
              "\n",
              "    .dataframe thead th {\n",
              "        text-align: right;\n",
              "    }\n",
              "</style>\n",
              "<table border=\"1\" class=\"dataframe\">\n",
              "  <thead>\n",
              "    <tr style=\"text-align: right;\">\n",
              "      <th></th>\n",
              "      <th>sentence</th>\n",
              "      <th>target</th>\n",
              "    </tr>\n",
              "  </thead>\n",
              "  <tbody>\n",
              "    <tr>\n",
              "      <th>192921</th>\n",
              "      <td>• Additionally, the number of lymph nodes posi...</td>\n",
              "      <td>0</td>\n",
              "    </tr>\n",
              "    <tr>\n",
              "      <th>9260</th>\n",
              "      <td>Imatinib_mesylate -LRB- imatinib -RRB- , a sel...</td>\n",
              "      <td>1</td>\n",
              "    </tr>\n",
              "    <tr>\n",
              "      <th>36173</th>\n",
              "      <td>Neonatal remedy tetanus may be encountered in ...</td>\n",
              "      <td>0</td>\n",
              "    </tr>\n",
              "    <tr>\n",
              "      <th>45377</th>\n",
              "      <td>Drug use There is an increased incidence of dr...</td>\n",
              "      <td>0</td>\n",
              "    </tr>\n",
              "    <tr>\n",
              "      <th>152485</th>\n",
              "      <td>The brains suppress were coronally sectioned a...</td>\n",
              "      <td>0</td>\n",
              "    </tr>\n",
              "    <tr>\n",
              "      <th>8828</th>\n",
              "      <td>UNASSIGNED : Imatinib , a Bcr-Abl-specific inh...</td>\n",
              "      <td>1</td>\n",
              "    </tr>\n",
              "    <tr>\n",
              "      <th>7402</th>\n",
              "      <td>A second source of specificity is at P2, with ...</td>\n",
              "      <td>0</td>\n",
              "    </tr>\n",
              "    <tr>\n",
              "      <th>47727</th>\n",
              "      <td>perspic cells were cultured in DMEM-Glutamax I...</td>\n",
              "      <td>0</td>\n",
              "    </tr>\n",
              "    <tr>\n",
              "      <th>176766</th>\n",
              "      <td>Tyramide signal amplification is another way t...</td>\n",
              "      <td>0</td>\n",
              "    </tr>\n",
              "    <tr>\n",
              "      <th>136193</th>\n",
              "      <td>The Schiff-Sherrington sign (syndrome or pheno...</td>\n",
              "      <td>0</td>\n",
              "    </tr>\n",
              "    <tr>\n",
              "      <th>27684</th>\n",
              "      <td>CONCLUSIONS : Despite the potential bias cause...</td>\n",
              "      <td>1</td>\n",
              "    </tr>\n",
              "    <tr>\n",
              "      <th>12922</th>\n",
              "      <td>Briefly, mice treat were anesthetized with 286...</td>\n",
              "      <td>0</td>\n",
              "    </tr>\n",
              "    <tr>\n",
              "      <th>31275</th>\n",
              "      <td>Amphotericin B, tetracycline, doxycycline, ket...</td>\n",
              "      <td>0</td>\n",
              "    </tr>\n",
              "    <tr>\n",
              "      <th>714</th>\n",
              "      <td>Values and Correlations between C-Reactive_Pro...</td>\n",
              "      <td>1</td>\n",
              "    </tr>\n",
              "    <tr>\n",
              "      <th>31739</th>\n",
              "      <td>There are two blood tests (enzyme-linked immun...</td>\n",
              "      <td>0</td>\n",
              "    </tr>\n",
              "    <tr>\n",
              "      <th>173462</th>\n",
              "      <td>CTI is a measure for the tendency of water to ...</td>\n",
              "      <td>0</td>\n",
              "    </tr>\n",
              "    <tr>\n",
              "      <th>138864</th>\n",
              "      <td>The bacteriological swab is vortex mixed and t...</td>\n",
              "      <td>0</td>\n",
              "    </tr>\n",
              "    <tr>\n",
              "      <th>93732</th>\n",
              "      <td>Mock-infected and infected cells (MOI 10) were...</td>\n",
              "      <td>0</td>\n",
              "    </tr>\n",
              "    <tr>\n",
              "      <th>13704</th>\n",
              "      <td>In this article , we review the mechanisms of ...</td>\n",
              "      <td>1</td>\n",
              "    </tr>\n",
              "    <tr>\n",
              "      <th>44472</th>\n",
              "      <td>Direct and impression Gram stains 290 or acrid...</td>\n",
              "      <td>0</td>\n",
              "    </tr>\n",
              "  </tbody>\n",
              "</table>\n",
              "</div>"
            ],
            "text/plain": [
              "                                                 sentence  target\n",
              "192921  • Additionally, the number of lymph nodes posi...       0\n",
              "9260    Imatinib_mesylate -LRB- imatinib -RRB- , a sel...       1\n",
              "36173   Neonatal remedy tetanus may be encountered in ...       0\n",
              "45377   Drug use There is an increased incidence of dr...       0\n",
              "152485  The brains suppress were coronally sectioned a...       0\n",
              "8828    UNASSIGNED : Imatinib , a Bcr-Abl-specific inh...       1\n",
              "7402    A second source of specificity is at P2, with ...       0\n",
              "47727   perspic cells were cultured in DMEM-Glutamax I...       0\n",
              "176766  Tyramide signal amplification is another way t...       0\n",
              "136193  The Schiff-Sherrington sign (syndrome or pheno...       0\n",
              "27684   CONCLUSIONS : Despite the potential bias cause...       1\n",
              "12922   Briefly, mice treat were anesthetized with 286...       0\n",
              "31275   Amphotericin B, tetracycline, doxycycline, ket...       0\n",
              "714     Values and Correlations between C-Reactive_Pro...       1\n",
              "31739   There are two blood tests (enzyme-linked immun...       0\n",
              "173462  CTI is a measure for the tendency of water to ...       0\n",
              "138864  The bacteriological swab is vortex mixed and t...       0\n",
              "93732   Mock-infected and infected cells (MOI 10) were...       0\n",
              "13704   In this article , we review the mechanisms of ...       1\n",
              "44472   Direct and impression Gram stains 290 or acrid...       0"
            ]
          },
          "metadata": {
            "tags": []
          },
          "execution_count": 94
        }
      ]
    },
    {
      "cell_type": "code",
      "metadata": {
        "id": "LsFWR9ymle2f",
        "colab_type": "code",
        "outputId": "596ad3bf-a4c5-4cfb-8ac6-cbb37d8d4107",
        "colab": {
          "base_uri": "https://localhost:8080/",
          "height": 87
        }
      },
      "source": [
        "from google.colab import auth\n",
        "auth.authenticate_user()\n",
        "!gsutil cp no_mask_train_data.tsv gs://coronaviruspublicdata/snapshot_re_4_12_2020/no_mask_train.tsv \n",
        "                            "
      ],
      "execution_count": 96,
      "outputs": [
        {
          "output_type": "stream",
          "text": [
            "Copying file://no_mask_train_data.tsv [Content-Type=text/tab-separated-values]...\n",
            "-\n",
            "Operation completed over 1 objects/11.6 MiB.                                     \n"
          ],
          "name": "stdout"
        }
      ]
    },
    {
      "cell_type": "markdown",
      "metadata": {
        "id": "kDJB86g0oVwI",
        "colab_type": "text"
      },
      "source": [
        "**Adding Evaluation Data**"
      ]
    },
    {
      "cell_type": "code",
      "metadata": {
        "id": "xNv6HtMVoayr",
        "colab_type": "code",
        "outputId": "2d64123e-14c3-4b44-dd36-87ba6cb6b333",
        "colab": {
          "base_uri": "https://localhost:8080/",
          "height": 598
        }
      },
      "source": [
        "eval_data_df = pd.read_excel(\"drugvis.xlsx\", sheet_name = 0).drop_duplicates(subset='sentence')\n",
        "eval_data_df['target'] = eval_data_df['Target']\n",
        "eval_data_df"
      ],
      "execution_count": 0,
      "outputs": [
        {
          "output_type": "execute_result",
          "data": {
            "text/html": [
              "<div>\n",
              "<style scoped>\n",
              "    .dataframe tbody tr th:only-of-type {\n",
              "        vertical-align: middle;\n",
              "    }\n",
              "\n",
              "    .dataframe tbody tr th {\n",
              "        vertical-align: top;\n",
              "    }\n",
              "\n",
              "    .dataframe thead th {\n",
              "        text-align: right;\n",
              "    }\n",
              "</style>\n",
              "<table border=\"1\" class=\"dataframe\">\n",
              "  <thead>\n",
              "    <tr style=\"text-align: right;\">\n",
              "      <th></th>\n",
              "      <th>row</th>\n",
              "      <th>drug</th>\n",
              "      <th>title</th>\n",
              "      <th>year</th>\n",
              "      <th>sentence</th>\n",
              "      <th>Target</th>\n",
              "      <th>comment_Andrea</th>\n",
              "      <th>target</th>\n",
              "    </tr>\n",
              "  </thead>\n",
              "  <tbody>\n",
              "    <tr>\n",
              "      <th>0</th>\n",
              "      <td>10695</td>\n",
              "      <td>acacia</td>\n",
              "      <td>Past, present and future: experiences and less...</td>\n",
              "      <td>2007.0</td>\n",
              "      <td>As with Acacia and PAN, the LAC prospectus aff...</td>\n",
              "      <td>0</td>\n",
              "      <td>Acacia and PAN are organizations not drugs.</td>\n",
              "      <td>0</td>\n",
              "    </tr>\n",
              "    <tr>\n",
              "      <th>1</th>\n",
              "      <td>17438</td>\n",
              "      <td>adefovir</td>\n",
              "      <td>1.13 The Role of Small- or Medium-Sized Enterp...</td>\n",
              "      <td>2007.0</td>\n",
              "      <td>Gilead has several antiinfectious products on ...</td>\n",
              "      <td>0</td>\n",
              "      <td>Adefovir dipivoxil is not the same as Adefovir</td>\n",
              "      <td>0</td>\n",
              "    </tr>\n",
              "    <tr>\n",
              "      <th>2</th>\n",
              "      <td>13787</td>\n",
              "      <td>testosterone</td>\n",
              "      <td>Equine Viral Arteritis</td>\n",
              "      <td>1993.0</td>\n",
              "      <td>Temporary down-regulation of circulating testo...</td>\n",
              "      <td>0</td>\n",
              "      <td>NaN</td>\n",
              "      <td>0</td>\n",
              "    </tr>\n",
              "    <tr>\n",
              "      <th>3</th>\n",
              "      <td>13573</td>\n",
              "      <td>acetate</td>\n",
              "      <td>Abstract book of the 7th ISNI Congress</td>\n",
              "      <td>2004.0</td>\n",
              "      <td>Glatiramer acetate (Copaxone) therapy induces ...</td>\n",
              "      <td>1</td>\n",
              "      <td>Cytotoxic in this case seems to be good, but i...</td>\n",
              "      <td>1</td>\n",
              "    </tr>\n",
              "    <tr>\n",
              "      <th>4</th>\n",
              "      <td>350</td>\n",
              "      <td>progesterone</td>\n",
              "      <td>Subacute sclerosing panencephalitis in pregnancy</td>\n",
              "      <td>2016.0</td>\n",
              "      <td>Although many studies suggest systemic suppres...</td>\n",
              "      <td>1</td>\n",
              "      <td>Depends on whether immune suppression is desir...</td>\n",
              "      <td>1</td>\n",
              "    </tr>\n",
              "    <tr>\n",
              "      <th>...</th>\n",
              "      <td>...</td>\n",
              "      <td>...</td>\n",
              "      <td>...</td>\n",
              "      <td>...</td>\n",
              "      <td>...</td>\n",
              "      <td>...</td>\n",
              "      <td>...</td>\n",
              "      <td>...</td>\n",
              "    </tr>\n",
              "    <tr>\n",
              "      <th>523</th>\n",
              "      <td>33</td>\n",
              "      <td>torasemide</td>\n",
              "      <td>Research Communications of the 29th ECVIM‐CA C...</td>\n",
              "      <td>2019.0</td>\n",
              "      <td>The case records of cats treated with torasemi...</td>\n",
              "      <td>1</td>\n",
              "      <td>NaN</td>\n",
              "      <td>1</td>\n",
              "    </tr>\n",
              "    <tr>\n",
              "      <th>524</th>\n",
              "      <td>37</td>\n",
              "      <td>torasemide</td>\n",
              "      <td>Research Communications of the 29th ECVIM‐CA C...</td>\n",
              "      <td>2019.0</td>\n",
              "      <td>This case series illustrates the therapeutic i...</td>\n",
              "      <td>1</td>\n",
              "      <td>NaN</td>\n",
              "      <td>1</td>\n",
              "    </tr>\n",
              "    <tr>\n",
              "      <th>526</th>\n",
              "      <td>17</td>\n",
              "      <td>trilostane</td>\n",
              "      <td>Research Communications of the 29th ECVIM‐CA C...</td>\n",
              "      <td>2019.0</td>\n",
              "      <td>Comparison of different monitoring methods in ...</td>\n",
              "      <td>1</td>\n",
              "      <td>NaN</td>\n",
              "      <td>1</td>\n",
              "    </tr>\n",
              "    <tr>\n",
              "      <th>527</th>\n",
              "      <td>26</td>\n",
              "      <td>trilostane</td>\n",
              "      <td>Research Communications of the 29th ECVIM‐CA C...</td>\n",
              "      <td>2019.0</td>\n",
              "      <td>Hp seems to be the best parameter to monitor t...</td>\n",
              "      <td>1</td>\n",
              "      <td>NaN</td>\n",
              "      <td>1</td>\n",
              "    </tr>\n",
              "    <tr>\n",
              "      <th>529</th>\n",
              "      <td>10093</td>\n",
              "      <td>vancomycin</td>\n",
              "      <td>‘The Microbiome and the Pathophysiology of Ast...</td>\n",
              "      <td>2016.0</td>\n",
              "      <td>To test the effect of early life antibiotic ex...</td>\n",
              "      <td>1</td>\n",
              "      <td>NaN</td>\n",
              "      <td>1</td>\n",
              "    </tr>\n",
              "  </tbody>\n",
              "</table>\n",
              "<p>375 rows × 8 columns</p>\n",
              "</div>"
            ],
            "text/plain": [
              "       row  ... target\n",
              "0    10695  ...      0\n",
              "1    17438  ...      0\n",
              "2    13787  ...      0\n",
              "3    13573  ...      1\n",
              "4      350  ...      1\n",
              "..     ...  ...    ...\n",
              "523     33  ...      1\n",
              "524     37  ...      1\n",
              "526     17  ...      1\n",
              "527     26  ...      1\n",
              "529  10093  ...      1\n",
              "\n",
              "[375 rows x 8 columns]"
            ]
          },
          "metadata": {
            "tags": []
          },
          "execution_count": 81
        }
      ]
    },
    {
      "cell_type": "code",
      "metadata": {
        "id": "2FBjOFm4oxJD",
        "colab_type": "code",
        "outputId": "4425e2f4-4585-4345-8da2-9b05fefadee6",
        "colab": {
          "base_uri": "https://localhost:8080/",
          "height": 87
        }
      },
      "source": [
        "eval_data_df['target'] = eval_data_df['Target']\n",
        "eval_data_df[['sentence', 'target']].to_csv('eval_data.tsv', header=False, sep='\\t')\n",
        "!gsutil cp eval_data.tsv gs://coronaviruspublicdata/snapshot_re_4_12_2020/eval_data.tsv"
      ],
      "execution_count": 88,
      "outputs": [
        {
          "output_type": "stream",
          "text": [
            "Copying file://eval_data.tsv [Content-Type=text/tab-separated-values]...\n",
            "-\n",
            "Operation completed over 1 objects/86.6 KiB.                                     \n"
          ],
          "name": "stdout"
        }
      ]
    },
    {
      "cell_type": "markdown",
      "metadata": {
        "id": "3LPp-dnmn0B0",
        "colab_type": "text"
      },
      "source": [
        "## Creating the mask \n",
        "As stated earlier however GAD uses masking so we might want masks."
      ]
    },
    {
      "cell_type": "code",
      "metadata": {
        "id": "naKhHErbn2D-",
        "colab_type": "code",
        "colab": {}
      },
      "source": [
        ""
      ],
      "execution_count": 0,
      "outputs": []
    }
  ]
}
