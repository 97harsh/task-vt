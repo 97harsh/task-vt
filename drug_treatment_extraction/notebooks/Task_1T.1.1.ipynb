{
 "cells": [
  {
   "cell_type": "code",
   "execution_count": 1,
   "metadata": {},
   "outputs": [],
   "source": [
    "# This script finds matches to sets of words in tokenized datasets using the parser helper functions.  \n",
    "# It can run over titles, abstracts, body text, etc, and using either lemmatized or direct text matching"
   ]
  },
  {
   "cell_type": "code",
   "execution_count": 2,
   "metadata": {},
   "outputs": [],
   "source": [
    "from parser_helpers import *"
   ]
  },
  {
   "cell_type": "code",
   "execution_count": null,
   "metadata": {},
   "outputs": [
    {
     "name": "stdout",
     "output_type": "stream",
     "text": [
      "./CORD-19-research-challenge/noncomm_use_subset/noncomm_use_subset/\n",
      "./CORD-19-research-challenge/comm_use_subset/comm_use_subset/\n",
      "./CORD-19-research-challenge/biorxiv_medrxiv/biorxiv_medrxiv/\n",
      "./CORD-19-research-challenge/custom_license/custom_license/\n"
     ]
    }
   ],
   "source": [
    "Words=[\"COVID-19\", \"Coronavirus\", \"Corona\", \"2019-nCoV\", \"SARS-CoV\",]\n",
    "ExtractToCSV(Words, \"TitleAbstractMatches_virusnames.csv\", Lemmatized=False)\n",
    "\n",
    "Words=np.loadtxt(\"DrugNames.txt\",dtype='str')\n",
    "ExtractToCSV(Words, \"TitleAbstractMatches_drugs.csv\", Lemmatized=False)\n",
    "\n",
    "Words=['treat','treatment' 'alleviate', 'manage', 'suppress','suppression', 'prescribe','therapy','cure','remedy', 'therapeutic','administer']\n",
    "ExtractToCSV(Words, \"TitleAbstractMatches_therapies.csv\", Lemmatized=True)\n",
    "\n",
    "Words=[\"vitro\", \"vivo\", \"in-vitro\", \"in-vivo\", \"mouse\",\"mice\",\"clinial\",\"human\",\"computational\",\"vertical\",\"horizontal\",\"theoretical\",\"simulation\"]\n",
    "ExtractToCSV(Words, \"TitleAbstractMatches_exptypes.csv\", Lemmatized=True)"
   ]
  }
 ],
 "metadata": {
  "kernelspec": {
   "display_name": "Python 3",
   "language": "python",
   "name": "python3"
  },
  "language_info": {
   "codemirror_mode": {
    "name": "ipython",
    "version": 3
   },
   "file_extension": ".py",
   "mimetype": "text/x-python",
   "name": "python",
   "nbconvert_exporter": "python",
   "pygments_lexer": "ipython3",
   "version": "3.7.7"
  }
 },
 "nbformat": 4,
 "nbformat_minor": 2
}
