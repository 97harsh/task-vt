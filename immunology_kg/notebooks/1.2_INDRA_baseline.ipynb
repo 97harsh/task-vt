{
 "cells": [
  {
   "cell_type": "markdown",
   "metadata": {},
   "source": [
    "# INDRA baseline\n",
    "\n",
    "__Goal:__ Evaluate accuracy of INDRA models\n",
    "\n",
    "__Method:__ Test of INDRA Covid-19 model:\n",
    "1. Use entities form covid-19 dataset as search query to INDRA,\n",
    "2. get INDRA statements,\n",
    "3. convert them to BEL format,\n",
    "4. compare with relations from covid-19 dataset, calculate accuracy\n",
    "5. run error analysis\n",
    "\n",
    "\n",
    "__Data:__ covid-19-kg dataset, [Covid-19 model from INDRA](https://emmaa.indra.bio/dashboard/covid19?tab=model)\n",
    "\n",
    "__Tools:__ [INDRA](http://www.indra.bio/), [PyBEL](https://github.com/pybel/pybel)\n",
    "\n",
    "__Result:__ INDRA models accuracy, results of error analysis"
   ]
  }
 ],
 "metadata": {
  "kernelspec": {
   "display_name": "Python 3",
   "language": "python",
   "name": "python3"
  },
  "language_info": {
   "codemirror_mode": {
    "name": "ipython",
    "version": 3
   },
   "file_extension": ".py",
   "mimetype": "text/x-python",
   "name": "python",
   "nbconvert_exporter": "python",
   "pygments_lexer": "ipython3",
   "version": "3.6.8"
  }
 },
 "nbformat": 4,
 "nbformat_minor": 2
}
