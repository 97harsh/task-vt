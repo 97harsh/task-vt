{
 "cells": [
  {
   "cell_type": "markdown",
   "metadata": {},
   "source": [
    "# Weak-supervised learning models for relation extraction\n",
    "\n",
    "__Goal:__ Train weak-supervised models, get accuracy level\n",
    "\n",
    "__Method:__ Test of weak-supervised DL models:\n",
    "1. Train DL models on CORD-19 dataset\n",
    "2. Extract relations from papers that was used in test dataset\n",
    "3. Convert relations to BEL format\n",
    "4. Compare with relations from covid-19 dataset, calculate accuracy\n",
    "5. Run error analysis\n",
    "\n",
    "\n",
    "__Data:__ covid-19-kg dataset, [CORD-19 processed by CoronaWhy](https://console.cloud.google.com/storage/browser/coronawhy/NLPDatasets/)\n",
    "\n",
    "__Tools:__ [PyTorch](https://pytorch.org/), [OpenNRE](https://github.com/thunlp/OpenNRE), [Snorkel](https://www.snorkel.org/) [PyBEL](https://github.com/pybel/pybel)\n",
    "\n",
    "__Result:__ Trained weak-supervised models, accuracy of weak-supervised models"
   ]
  }
 ],
 "metadata": {
  "kernelspec": {
   "display_name": "Python 3",
   "language": "python",
   "name": "python3"
  },
  "language_info": {
   "codemirror_mode": {
    "name": "ipython",
    "version": 3
   },
   "file_extension": ".py",
   "mimetype": "text/x-python",
   "name": "python",
   "nbconvert_exporter": "python",
   "pygments_lexer": "ipython3",
   "version": "3.6.8"
  }
 },
 "nbformat": 4,
 "nbformat_minor": 2
}
