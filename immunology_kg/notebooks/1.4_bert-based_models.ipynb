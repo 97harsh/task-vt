{
 "cells": [
  {
   "cell_type": "markdown",
   "metadata": {},
   "source": [
    "# BERT-based models\n",
    "\n",
    "__Goal:__ Fine-tune BERT-based models, get accuracy level\n",
    "\n",
    "__Method:__ Fine-tune BERT-based models, calculate accuracy and run error analysis\n",
    "\n",
    "__Data:__ covid-19-kg dataset, [CORD-19 processed by CoronaWhy](https://console.cloud.google.com/storage/browser/coronawhy/NLPDatasets/)\n",
    "\n",
    "__Tools:__ [PyTorch](https://pytorch.org/), [SPERT](https://github.com/markus-eberts/spert), [Transformers library](https://huggingface.co/transformers/), [CovidBERT](https://huggingface.co/gsarti/covidbert-nli), [BioBERT](https://github.com/dmis-lab/biobert), [PyBEL](https://github.com/pybel/pybel)\n",
    "\n",
    "__Result:__ Fine-tuned BERT-based models, accuracy level"
   ]
  }
 ],
 "metadata": {
  "kernelspec": {
   "display_name": "Python 3",
   "language": "python",
   "name": "python3"
  },
  "language_info": {
   "codemirror_mode": {
    "name": "ipython",
    "version": 3
   },
   "file_extension": ".py",
   "mimetype": "text/x-python",
   "name": "python",
   "nbconvert_exporter": "python",
   "pygments_lexer": "ipython3",
   "version": "3.6.8"
  }
 },
 "nbformat": 4,
 "nbformat_minor": 2
}
