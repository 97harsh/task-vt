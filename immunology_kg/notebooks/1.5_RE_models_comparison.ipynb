{
 "cells": [
  {
   "cell_type": "markdown",
   "metadata": {},
   "source": [
    "# RE models comparison \n",
    "\n",
    "__Goal:__ Select relation extraction tools for KG building pipeline based on accuracy level for different relationship types, requirements of training data and curation efforts\n",
    "\n",
    "__Method:__ Compare results of error analysis\n",
    "\n",
    "__Result:__ Selected RE model"
   ]
  }
 ],
 "metadata": {
  "kernelspec": {
   "display_name": "Python 3",
   "language": "python",
   "name": "python3"
  },
  "language_info": {
   "codemirror_mode": {
    "name": "ipython",
    "version": 3
   },
   "file_extension": ".py",
   "mimetype": "text/x-python",
   "name": "python",
   "nbconvert_exporter": "python",
   "pygments_lexer": "ipython3",
   "version": "3.6.8"
  }
 },
 "nbformat": 4,
 "nbformat_minor": 2
}
