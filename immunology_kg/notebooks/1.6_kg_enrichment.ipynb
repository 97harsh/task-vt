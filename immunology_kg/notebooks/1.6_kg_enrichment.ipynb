{
 "cells": [
  {
   "cell_type": "markdown",
   "metadata": {},
   "source": [
    "# Enrichment of Covid-19 knowledge graph\n",
    "\n",
    "__Goal:__ Learning of KG enrichment pipeline and enrich KG\n",
    "\n",
    "__Method:__ For existing covid-19 kg reproduce pipeline described in [Charlie’s paper](https://academic.oup.com/database/article/doi/10.1093/database/baz068/5521414): \n",
    "1. Use most important nodes of input graph as a search query to RE models\n",
    "2. Manually curate statements from RE model\n",
    "3. Run error analysis\n",
    "\n",
    "__Data:__ covid-19-kg dataset, [CORD-19 processed by CoronaWhy](https://console.cloud.google.com/storage/browser/coronawhy/NLPDatasets/)\n",
    "\n",
    "__Tools:__ selected RE model, [PyBEL](https://github.com/pybel/pybel)\n",
    "\n",
    "__Result:__ Enriched knowledge graph"
   ]
  }
 ],
 "metadata": {
  "kernelspec": {
   "display_name": "Python 3",
   "language": "python",
   "name": "python3"
  },
  "language_info": {
   "codemirror_mode": {
    "name": "ipython",
    "version": 3
   },
   "file_extension": ".py",
   "mimetype": "text/x-python",
   "name": "python",
   "nbconvert_exporter": "python",
   "pygments_lexer": "ipython3",
   "version": "3.6.8"
  }
 },
 "nbformat": 4,
 "nbformat_minor": 2
}
