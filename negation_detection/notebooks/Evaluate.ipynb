{
 "cells": [
  {
   "cell_type": "code",
   "execution_count": 1,
   "metadata": {},
   "outputs": [],
   "source": [
    "import pandas as pd\n",
    "from sklearn.metrics import precision_score, recall_score, accuracy_score, confusion_matrix"
   ]
  },
  {
   "cell_type": "code",
   "execution_count": 2,
   "metadata": {},
   "outputs": [],
   "source": [
    "out_dir = '../data/output/'\n",
    "\n",
    "output_data = pd.read_excel(out_dir + 'DrugVisData_Negated_Output_Validations.xlsx',\\\n",
    "                            sheet_name = 'DrugVisData_Negated_Output')\n",
    "output_validation_data = pd.read_excel(out_dir + 'DrugVisData_Negated_Output_Validations.xlsx',\\\n",
    "                                       sheet_name = 'validation')"
   ]
  },
  {
   "cell_type": "code",
   "execution_count": 34,
   "metadata": {},
   "outputs": [
    {
     "name": "stdout",
     "output_type": "stream",
     "text": [
      "Confusion Matrix:\n",
      "\n",
      "[[43 33]\n",
      " [ 7 17]]\n",
      "[[42 35]\n",
      " [ 8 15]]\n"
     ]
    }
   ],
   "source": [
    "print('Confusion Matrix:\\n')\n",
    "print(confusion_matrix(output_validation_data['Human_Is_Negated'], output_validation_data['Is_Negated']))\n",
    "print(confusion_matrix(output_validation_data['Doublecheck'], output_validation_data['Is_Negated']))"
   ]
  },
  {
   "cell_type": "code",
   "execution_count": 35,
   "metadata": {},
   "outputs": [
    {
     "name": "stdout",
     "output_type": "stream",
     "text": [
      "Overall accuracy of negation detection: 0.6\n",
      "Precision of negation detection: 0.34\n",
      "Recall of negation detection: 0.34\n",
      "\n",
      "\n",
      "Overall accuracy of negation detection: 0.57\n",
      "Precision of negation detection: 0.3\n",
      "Recall of negation detection: 0.3\n"
     ]
    }
   ],
   "source": [
    "print('Overall accuracy of negation detection: '\\\n",
    "      + str(accuracy_score(output_validation_data['Human_Is_Negated'], output_validation_data['Is_Negated'] )))\n",
    "print('Precision of negation detection: '\\\n",
    "      + str(precision_score(output_validation_data['Human_Is_Negated'], output_validation_data['Is_Negated'] )))\n",
    "print('Recall of negation detection: '\\\n",
    "      + str(precision_score(output_validation_data['Human_Is_Negated'], output_validation_data['Is_Negated'] )))\n",
    "\n",
    "print('\\n')\n",
    "\n",
    "print('Overall accuracy of negation detection: '\\\n",
    "      + str(accuracy_score(output_validation_data['Doublecheck'], output_validation_data['Is_Negated'] )))\n",
    "print('Precision of negation detection: '\\\n",
    "      + str(precision_score(output_validation_data['Doublecheck'], output_validation_data['Is_Negated'] )))\n",
    "print('Recall of negation detection: '\\\n",
    "      + str(precision_score(output_validation_data['Doublecheck'], output_validation_data['Is_Negated'] )))"
   ]
  }
 ],
 "metadata": {
  "kernelspec": {
   "display_name": "Python 3",
   "language": "python",
   "name": "python3"
  },
  "language_info": {
   "codemirror_mode": {
    "name": "ipython",
    "version": 3
   },
   "file_extension": ".py",
   "mimetype": "text/x-python",
   "name": "python",
   "nbconvert_exporter": "python",
   "pygments_lexer": "ipython3",
   "version": "3.7.6"
  }
 },
 "nbformat": 4,
 "nbformat_minor": 4
}
