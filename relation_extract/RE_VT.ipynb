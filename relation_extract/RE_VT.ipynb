{
  "nbformat": 4,
  "nbformat_minor": 0,
  "metadata": {
    "colab": {
      "name": "RE-VT.ipynb",
      "provenance": [],
      "collapsed_sections": []
    },
    "kernelspec": {
      "name": "python3",
      "display_name": "Python 3"
    }
  },
  "cells": [
    {
      "cell_type": "markdown",
      "metadata": {
        "id": "EfZ0PAtL_r1e",
        "colab_type": "text"
      },
      "source": [
        "# SPERT model\n",
        "This is a short notebook showing how to utilize the pre-trained SPERT model (i.e. on the adverse drugs events dataset) for relation extraction on COVID-19 dataset. "
      ]
    },
    {
      "cell_type": "code",
      "metadata": {
        "id": "4uhNRK9pY6Rh",
        "colab_type": "code",
        "outputId": "0870efe2-bdeb-4531-bacb-e67814d50cb4",
        "colab": {
          "base_uri": "https://localhost:8080/",
          "height": 120
        }
      },
      "source": [
        "import os \n",
        "!git clone https://github.com/markus-eberts/spert \n"
      ],
      "execution_count": 0,
      "outputs": [
        {
          "output_type": "stream",
          "text": [
            "Cloning into 'spert'...\n",
            "remote: Enumerating objects: 119, done.\u001b[K\n",
            "remote: Total 119 (delta 0), reused 0 (delta 0), pack-reused 119\u001b[K\n",
            "Receiving objects: 100% (119/119), 52.84 KiB | 2.30 MiB/s, done.\n",
            "Resolving deltas: 100% (62/62), done.\n"
          ],
          "name": "stdout"
        }
      ]
    },
    {
      "cell_type": "code",
      "metadata": {
        "id": "rQmQw-qkQ0kg",
        "colab_type": "code",
        "colab": {}
      },
      "source": [
        "os.chdir('spert')\n",
        "!bash ./scripts/fetch_datasets.sh \n",
        "!bash ./scripts/fetch_models.sh\n",
        "!pip install -r requirements.txt\n"
      ],
      "execution_count": 0,
      "outputs": []
    },
    {
      "cell_type": "code",
      "metadata": {
        "id": "Ci0vMGdJ_rkg",
        "colab_type": "code",
        "colab": {}
      },
      "source": [
        "!python ./spert.py eval --config configs/example_eval.conf"
      ],
      "execution_count": 0,
      "outputs": []
    },
    {
      "cell_type": "code",
      "metadata": {
        "id": "8TSBAU6zsaFb",
        "colab_type": "code",
        "outputId": "71ed6d50-6efc-41dd-9d9b-30a0b8663432",
        "colab": {
          "base_uri": "https://localhost:8080/",
          "height": 220
        }
      },
      "source": [
        "!wget -O ade_eval.conf https://gist.githubusercontent.com/isaacmg/d1f26259eff607a474b8069d96fae753/raw/4c3d193c65fa83e0609e64e7623a87d866743368/ade_eval.conf"
      ],
      "execution_count": 0,
      "outputs": [
        {
          "output_type": "stream",
          "text": [
            "--2020-04-05 18:54:29--  https://gist.githubusercontent.com/isaacmg/d1f26259eff607a474b8069d96fae753/raw/4c3d193c65fa83e0609e64e7623a87d866743368/ade_eval.conf\n",
            "Resolving gist.githubusercontent.com (gist.githubusercontent.com)... 151.101.0.133, 151.101.64.133, 151.101.128.133, ...\n",
            "Connecting to gist.githubusercontent.com (gist.githubusercontent.com)|151.101.0.133|:443... connected.\n",
            "HTTP request sent, awaiting response... 200 OK\n",
            "Length: 433 [text/plain]\n",
            "Saving to: ‘ade_eval.conf’\n",
            "\n",
            "\rade_eval.conf         0%[                    ]       0  --.-KB/s               \rade_eval.conf       100%[===================>]     433  --.-KB/s    in 0s      \n",
            "\n",
            "2020-04-05 18:54:29 (17.5 MB/s) - ‘ade_eval.conf’ saved [433/433]\n",
            "\n"
          ],
          "name": "stdout"
        }
      ]
    },
    {
      "cell_type": "code",
      "metadata": {
        "id": "Zt7-b6_flEJ0",
        "colab_type": "code",
        "outputId": "ba5f1fba-cee9-4f15-ef74-e341c54673d9",
        "colab": {
          "base_uri": "https://localhost:8080/",
          "height": 1000
        }
      },
      "source": [
        "!python ./spert.py eval --config ade_eval.conf"
      ],
      "execution_count": 0,
      "outputs": [
        {
          "output_type": "stream",
          "text": [
            "2020-04-05 18:54:59.196228: I tensorflow/stream_executor/platform/default/dso_loader.cc:44] Successfully opened dynamic library libcudart.so.10.1\n",
            "2020-04-05 18:55:01.429599: I tensorflow/stream_executor/platform/default/dso_loader.cc:44] Successfully opened dynamic library libcuda.so.1\n",
            "2020-04-05 18:55:01.431461: E tensorflow/stream_executor/cuda/cuda_driver.cc:313] failed call to cuInit: CUDA_ERROR_NO_DEVICE: no CUDA-capable device is detected\n",
            "2020-04-05 18:55:01.431498: I tensorflow/stream_executor/cuda/cuda_diagnostics.cc:156] kernel driver does not appear to be running on this host (fd764eacfb87): /proc/driver/nvidia/version does not exist\n",
            "2020-04-05 18:55:01.437181: I tensorflow/core/platform/profile_utils/cpu_utils.cc:102] CPU Frequency: 2200000000 Hz\n",
            "2020-04-05 18:55:01.437385: I tensorflow/compiler/xla/service/service.cc:168] XLA service 0x7cb4a00 initialized for platform Host (this does not guarantee that XLA will be used). Devices:\n",
            "2020-04-05 18:55:01.437415: I tensorflow/compiler/xla/service/service.cc:176]   StreamExecutor device (0): Host, Default Version\n",
            "--------------------------------------------------\n",
            "Config:\n",
            "{'label': 'conll04_eval', 'model_type': 'spert', 'model_path': 'data/models/ade', 'tokenizer_path': 'data/models/ade', 'dataset_path': 'data/datasets/ade/ade_split_0_test.json', 'types_path': 'data/datasets/ade/ade_types.json', 'eval_batch_size': '1', 'rel_filter_threshold': '0.4', 'size_embedding': '25', 'prop_drop': '0.1', 'max_span_size': '10', 'store_predictions': 'true', 'store_examples': 'true', 'sampling_processes': '4', 'sampling_limit': '100', 'max_pairs': '1000', 'log_path': 'data/log/'}\n",
            "Repeat 1 times\n",
            "--------------------------------------------------\n",
            "Iteration 0\n",
            "--------------------------------------------------\n",
            "2020-04-05 18:55:01,532 [MainThread  ] [INFO ]  Generating grammar tables from /usr/lib/python3.6/lib2to3/Grammar.txt\n",
            "2020-04-05 18:55:01,560 [MainThread  ] [INFO ]  Generating grammar tables from /usr/lib/python3.6/lib2to3/PatternGrammar.txt\n",
            "2020-04-05 18:55:01,584 [MainThread  ] [INFO ]  Model name 'data/models/ade' not found in model shortcut name list (bert-base-uncased, bert-large-uncased, bert-base-cased, bert-large-cased, bert-base-multilingual-uncased, bert-base-multilingual-cased, bert-base-chinese, bert-base-german-cased, bert-large-uncased-whole-word-masking, bert-large-cased-whole-word-masking, bert-large-uncased-whole-word-masking-finetuned-squad, bert-large-cased-whole-word-masking-finetuned-squad, bert-base-cased-finetuned-mrpc, bert-base-german-dbmdz-cased, bert-base-german-dbmdz-uncased). Assuming 'data/models/ade' is a path or url to a directory containing tokenizer files.\n",
            "2020-04-05 18:55:01,584 [MainThread  ] [INFO ]  Didn't find file data/models/ade/added_tokens.json. We won't load it.\n",
            "2020-04-05 18:55:01,585 [MainThread  ] [INFO ]  Didn't find file data/models/ade/special_tokens_map.json. We won't load it.\n",
            "2020-04-05 18:55:01,585 [MainThread  ] [INFO ]  Didn't find file data/models/ade/tokenizer_config.json. We won't load it.\n",
            "2020-04-05 18:55:01,585 [MainThread  ] [INFO ]  loading file data/models/ade/vocab.txt\n",
            "2020-04-05 18:55:01,585 [MainThread  ] [INFO ]  loading file None\n",
            "2020-04-05 18:55:01,585 [MainThread  ] [INFO ]  loading file None\n",
            "2020-04-05 18:55:01,586 [MainThread  ] [INFO ]  loading file None\n",
            "2020-04-05 18:55:01,634 [MainThread  ] [INFO ]  Dataset: data/datasets/ade/ade_split_0_test.json\n",
            "2020-04-05 18:55:01,635 [MainThread  ] [INFO ]  Model: spert\n",
            "Parse dataset 'test': 100% 427/427 [00:00<00:00, 442.68it/s]\n",
            "2020-04-05 18:55:02,615 [MainThread  ] [INFO ]  Relation type count: 2\n",
            "2020-04-05 18:55:02,615 [MainThread  ] [INFO ]  Entity type count: 3\n",
            "2020-04-05 18:55:02,615 [MainThread  ] [INFO ]  Entities:\n",
            "2020-04-05 18:55:02,615 [MainThread  ] [INFO ]  No Entity=0\n",
            "2020-04-05 18:55:02,615 [MainThread  ] [INFO ]  Adverse-Effect=1\n",
            "2020-04-05 18:55:02,615 [MainThread  ] [INFO ]  Drug=2\n",
            "2020-04-05 18:55:02,615 [MainThread  ] [INFO ]  Relations:\n",
            "2020-04-05 18:55:02,616 [MainThread  ] [INFO ]  No Relation=0\n",
            "2020-04-05 18:55:02,616 [MainThread  ] [INFO ]  Adverse-Effect=1\n",
            "2020-04-05 18:55:02,616 [MainThread  ] [INFO ]  Dataset: test\n",
            "2020-04-05 18:55:02,616 [MainThread  ] [INFO ]  Document count: 427\n",
            "2020-04-05 18:55:02,616 [MainThread  ] [INFO ]  Relation count: 666\n",
            "2020-04-05 18:55:02,616 [MainThread  ] [INFO ]  Entity count: 1070\n",
            "2020-04-05 18:55:02,616 [MainThread  ] [INFO ]  Context size: 118\n",
            "2020-04-05 18:55:02,616 [MainThread  ] [INFO ]  loading configuration file data/models/ade/config.json\n",
            "2020-04-05 18:55:02,624 [MainThread  ] [INFO ]  Model config {\n",
            "  \"attention_probs_dropout_prob\": 0.1,\n",
            "  \"finetuning_task\": null,\n",
            "  \"hidden_act\": \"gelu\",\n",
            "  \"hidden_dropout_prob\": 0.1,\n",
            "  \"hidden_size\": 768,\n",
            "  \"initializer_range\": 0.02,\n",
            "  \"intermediate_size\": 3072,\n",
            "  \"is_decoder\": false,\n",
            "  \"layer_norm_eps\": 1e-12,\n",
            "  \"max_position_embeddings\": 512,\n",
            "  \"num_attention_heads\": 12,\n",
            "  \"num_hidden_layers\": 12,\n",
            "  \"num_labels\": 2,\n",
            "  \"output_attentions\": false,\n",
            "  \"output_hidden_states\": false,\n",
            "  \"output_past\": true,\n",
            "  \"pruned_heads\": {},\n",
            "  \"torchscript\": false,\n",
            "  \"type_vocab_size\": 2,\n",
            "  \"use_bfloat16\": false,\n",
            "  \"vocab_size\": 28996\n",
            "}\n",
            "\n",
            "2020-04-05 18:55:02,624 [MainThread  ] [INFO ]  loading weights file data/models/ade/pytorch_model.bin\n",
            "2020-04-05 18:55:13,614 [MainThread  ] [INFO ]  Evaluate: test\n",
            "Evaluate epoch 0: 100% 427/427 [01:45<00:00,  4.07it/s]\n",
            "Evaluation\n",
            "\n",
            "--- Entities (named entity recognition (NER)) ---\n",
            "An entity is considered correct if the entity type and span is predicted correctly\n",
            "\n",
            "                type    precision       recall     f1-score      support\n",
            "                Drug        98.80       100.00        99.40          494\n",
            "                  AE        99.14        99.83        99.48          576\n",
            "\n",
            "               micro        98.98        99.91        99.44         1070\n",
            "               macro        98.97        99.91        99.44         1070\n",
            "\n",
            "--- Relations ---\n",
            "\n",
            "Without named entity classification (NEC)\n",
            "A relation is considered correct if the relation type and the spans of the two related entities are predicted correctly (entity type is not considered)\n",
            "\n",
            "                type    precision       recall     f1-score      support\n",
            "                  AE        97.94        99.85        98.88          666\n",
            "\n",
            "               micro        97.94        99.85        98.88          666\n",
            "               macro        97.94        99.85        98.88          666\n",
            "\n",
            "With named entity classification (NEC)\n",
            "A relation is considered correct if the relation type and the two related entities are predicted correctly (in span and entity type)\n",
            "\n",
            "                type    precision       recall     f1-score      support\n",
            "                  AE        97.94        99.85        98.88          666\n",
            "\n",
            "               micro        97.94        99.85        98.88          666\n",
            "               macro        97.94        99.85        98.88          666\n",
            "/usr/local/lib/python3.6/dist-packages/sklearn/metrics/classification.py:1437: UndefinedMetricWarning: Precision and F-score are ill-defined and being set to 0.0 in labels with no predicted samples.\n",
            "  'precision', 'predicted', average, warn_for)\n",
            "/usr/local/lib/python3.6/dist-packages/sklearn/metrics/classification.py:1437: UndefinedMetricWarning: Precision and F-score are ill-defined and being set to 0.0 due to no predicted samples.\n",
            "  'precision', 'predicted', average, warn_for)\n",
            "2020-04-05 18:57:01,402 [MainThread  ] [INFO ]  Logged in: data/log/conll04_eval/2020-04-05_18:55:01.502487\n"
          ],
          "name": "stdout"
        }
      ]
    },
    {
      "cell_type": "code",
      "metadata": {
        "id": "acoLTByOt-t-",
        "colab_type": "code",
        "colab": {}
      },
      "source": [
        "from google.colab import auth\n",
        "from datetime import datetime\n",
        "auth.authenticate_user()"
      ],
      "execution_count": 0,
      "outputs": []
    },
    {
      "cell_type": "code",
      "metadata": {
        "id": "H6iY5ziLu49j",
        "colab_type": "code",
        "outputId": "3fd14775-a9ab-4151-b4d7-73a9a6272028",
        "colab": {
          "base_uri": "https://localhost:8080/",
          "height": 368
        }
      },
      "source": [
        "!gsutil cp -r data/log/conll04_eval/2020-04-05_18:55:01.502487 gs://coronavirusqa/re/results"
      ],
      "execution_count": 0,
      "outputs": [
        {
          "output_type": "stream",
          "text": [
            "Copying file://data/log/conll04_eval/2020-04-05_18:55:01.502487/all.log [Content-Type=application/octet-stream]...\n",
            "Copying file://data/log/conll04_eval/2020-04-05_18:55:01.502487/examples_rel_sorted_test_epoch_0.html [Content-Type=text/html]...\n",
            "Copying file://data/log/conll04_eval/2020-04-05_18:55:01.502487/examples_entities_sorted_test_epoch_0.html [Content-Type=text/html]...\n",
            "Copying file://data/log/conll04_eval/2020-04-05_18:55:01.502487/args.txt [Content-Type=text/plain]...\n",
            "\\ [4 files][  3.1 MiB/  3.1 MiB]                                                \n",
            "==> NOTE: You are performing a sequence of gsutil operations that may\n",
            "run significantly faster if you instead use gsutil -m cp ... Please\n",
            "see the -m section under \"gsutil help options\" for further information\n",
            "about when gsutil -m can be advantageous.\n",
            "\n",
            "Copying file://data/log/conll04_eval/2020-04-05_18:55:01.502487/events.out.tfevents.1586112901.fd764eacfb87 [Content-Type=application/octet-stream]...\n",
            "Copying file://data/log/conll04_eval/2020-04-05_18:55:01.502487/examples_rel_test_epoch_0.html [Content-Type=text/html]...\n",
            "Copying file://data/log/conll04_eval/2020-04-05_18:55:01.502487/predictions_test_epoch_0.json [Content-Type=application/json]...\n",
            "Copying file://data/log/conll04_eval/2020-04-05_18:55:01.502487/examples_rel_nec_test_epoch_0.html [Content-Type=text/html]...\n",
            "Copying file://data/log/conll04_eval/2020-04-05_18:55:01.502487/args.json [Content-Type=application/json]...\n",
            "Copying file://data/log/conll04_eval/2020-04-05_18:55:01.502487/eval_test.csv [Content-Type=text/csv]...\n",
            "Copying file://data/log/conll04_eval/2020-04-05_18:55:01.502487/examples_entities_test_epoch_0.html [Content-Type=text/html]...\n",
            "Copying file://data/log/conll04_eval/2020-04-05_18:55:01.502487/examples_rel_nec_sorted_test_epoch_0.html [Content-Type=text/html]...\n",
            "-\n",
            "Operation completed over 12 objects/9.3 MiB.                                     \n"
          ],
          "name": "stdout"
        }
      ]
    },
    {
      "cell_type": "markdown",
      "metadata": {
        "id": "Hpiu1Sqh8SDT",
        "colab_type": "text"
      },
      "source": [
        "## Continuing to train SPERT\n",
        "We might also want to continue to train SPERT on either the ADE or the COVID-19 data."
      ]
    },
    {
      "cell_type": "code",
      "metadata": {
        "id": "Jsv23WVy8V0X",
        "colab_type": "code",
        "colab": {}
      },
      "source": [
        "!wget -O scibert_scivocab_uncased.tar  https://s3-us-west-2.amazonaws.com/ai2-s2-research/scibert/huggingface_pytorch/scibert_scivocab_uncased.tar\n",
        "!tar -xvf scibert_scivocab_uncased.tar"
      ],
      "execution_count": 0,
      "outputs": []
    }
  ]
}